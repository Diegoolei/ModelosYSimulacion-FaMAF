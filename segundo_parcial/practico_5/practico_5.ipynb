{
 "cells": [
  {
   "cell_type": "markdown",
   "id": "74b8f2b8-7893-42af-a46c-bbfb4dfe60e8",
   "metadata": {},
   "source": [
    "### Imports"
   ]
  },
  {
   "cell_type": "code",
   "execution_count": 1,
   "id": "4ea1ddf9-7860-42ba-b75b-68a776bc3112",
   "metadata": {},
   "outputs": [],
   "source": [
    "from random import random\n",
    "from math   import log, e, gamma, factorial, pi, cos, sin, atan, tan\n",
    "from tabulate import tabulate\n",
    "import time\n",
    "import numpy as np"
   ]
  },
  {
   "cell_type": "markdown",
   "id": "d347b97d-28dc-4abd-8486-6117feb95f9e",
   "metadata": {},
   "source": [
    "### Funciones generales"
   ]
  },
  {
   "cell_type": "code",
   "execution_count": 2,
   "id": "16850aeb-8674-42a7-819d-ed7f67b4c143",
   "metadata": {},
   "outputs": [],
   "source": [
    "def estimar_esperanza(N, generador):\n",
    "    \"\"\"\n",
    "    Estima la esperanza usando la ley fuerte de los grandes numeros\n",
    "    Args:\n",
    "        N:            Cantidad total de valores a promediar\n",
    "        generador:    Generador de la variable aleatoria de interes\n",
    "    \"\"\"\n",
    "    esperanza = 0\n",
    "    for _ in range(N):\n",
    "        esperanza += generador()\n",
    "    return esperanza / N\n",
    "\n",
    "def estimar_varianza(N, generador, media):\n",
    "    \"\"\"\n",
    "    Estima la varianza de una variable aleatoria\n",
    "    Args:\n",
    "        N:         Tamaño de la muestra\n",
    "        generador: Generador de la variable aleatoria de interes \n",
    "        media:     Esperanza de la variable aleatoria\n",
    "    \"\"\"\n",
    "    varianza = 0\n",
    "    for _ in range(N):\n",
    "        varianza += (generador() - media) ** 2\n",
    "    varianza = varianza / N\n",
    "    return varianza\n",
    "\n",
    "def tiempo_ejecucion(funcion):\n",
    "    \"\"\"\n",
    "    Retorna el tiempo en ms que demora funcion hasta terminar su ejecucion\n",
    "    y el resultado de funcion\n",
    "    Return:\n",
    "        (Tiempo de ejecucion total, resultado de la funcion ejecutada)\n",
    "    \"\"\"\n",
    "    tiempo = time.time()\n",
    "    resultado_funcion = funcion()\n",
    "    tiempo = (time.time() - tiempo) * 10**3\n",
    "    return (np.round(tiempo,4), resultado_funcion)"
   ]
  },
  {
   "cell_type": "markdown",
   "id": "96d84f4a-9f0d-462a-a329-0e1751cc9cce",
   "metadata": {},
   "source": [
    "### Ejercicio 1"
   ]
  },
  {
   "cell_type": "code",
   "execution_count": 3,
   "id": "a58a7176-8406-4a3e-abfd-ca86dc353ac9",
   "metadata": {},
   "outputs": [],
   "source": [
    "def generar_1_a():\n",
    "    \"\"\"\n",
    "    Genera la variable aleatoria continua dada en el ejercicio 1_a\n",
    "    usando el metodo de la transformada inversa\n",
    "    \"\"\"\n",
    "    U = random()\n",
    "    if U <= 0.25:\n",
    "        return 2 * (1 + U**(1/2))\n",
    "    else:\n",
    "        return 6 * (1 - (1 - (2+U) / 3)**(1/2))"
   ]
  },
  {
   "cell_type": "code",
   "execution_count": 4,
   "id": "2a49bdad-46d1-4375-8b79-37c5b6e0f2d1",
   "metadata": {},
   "outputs": [],
   "source": [
    "def generar_1_b():\n",
    "    \"\"\"\n",
    "    Genera la variable aleatoria continua dada en el ejercicio 1_b\n",
    "    usando el metodo de la transformada inversa\n",
    "    \"\"\"\n",
    "    U = random()\n",
    "    if U <= 0.6:\n",
    "        return (-18 + (18**2 + 420*U) ** (1/2)) / 6\n",
    "    else:\n",
    "        return ((U * 35 - 19)/2) ** (1/3)"
   ]
  },
  {
   "cell_type": "code",
   "execution_count": 5,
   "id": "5b7f61d1-aa80-4237-aa9c-2f75314794de",
   "metadata": {},
   "outputs": [],
   "source": [
    "def generar_1_c():\n",
    "    \"\"\"\n",
    "    Genera la variable aleatoria continua dada en el ejercicio 1_c\n",
    "    usando el metodo de la transformada inversa\n",
    "    \"\"\"\n",
    "    U = random()\n",
    "    if U <= 1/16:\n",
    "        return log(16*U) / 4\n",
    "    else:\n",
    "        return (U - 1/16) * 4"
   ]
  },
  {
   "cell_type": "markdown",
   "id": "c75df429-bd13-4b1f-adb7-9fcda06da8d9",
   "metadata": {},
   "source": [
    "### Ejercicio 2"
   ]
  },
  {
   "cell_type": "code",
   "execution_count": 6,
   "id": "7c116d13-af3b-4481-bbfc-744c34622166",
   "metadata": {},
   "outputs": [],
   "source": [
    "def generar_pareto(a):\n",
    "    \"\"\"\n",
    "    Genera una variable aleatoria pareto usando el metodo de la transformada\n",
    "    inversa con escala xm = 1\n",
    "    Args:\n",
    "        a: forma de la variable de pareto\n",
    "    \"\"\"\n",
    "    U = random()\n",
    "    return (1 / (1 - U)) ** (1/a)"
   ]
  },
  {
   "cell_type": "code",
   "execution_count": 7,
   "id": "697e5b1a-28b1-4dde-b03d-64cb31fd2034",
   "metadata": {},
   "outputs": [],
   "source": [
    "def generar_exp(Lambda):\n",
    "    \"\"\"\n",
    "    Genera una variable aleatoria exponencial usando el metodo de la transformada\n",
    "    inversa\n",
    "    Args:\n",
    "        Lambda: Parametro de la variable aleatoria exponencial\n",
    "    \"\"\"\n",
    "    U = random()\n",
    "    return -log(U) / Lambda\n",
    "\n",
    "def generar_gamma(n, Lambda):\n",
    "    \"\"\"\n",
    "    Genera una variable aleatoria Gamma como suma de variables exponenciales\n",
    "    Args:\n",
    "        n, Lambda: Parametros de la variable aleatoria Gamma\n",
    "    \"\"\"\n",
    "    U = 1\n",
    "    for _ in range(n):\n",
    "        U *= 1 - random()\n",
    "    \n",
    "    return - log(U) / Lambda\n",
    "    \n",
    "def generar_erlang(k, mu):\n",
    "    \"\"\"\n",
    "    Genera una variable aleatoria de erlang usando un generador de variables\n",
    "    Gamma\n",
    "    \"\"\"\n",
    "    return generar_gamma(k, mu)"
   ]
  },
  {
   "cell_type": "code",
   "execution_count": 8,
   "id": "caa8c9c5-15a3-4c87-a8cd-63d6fa5c976a",
   "metadata": {},
   "outputs": [],
   "source": [
    "def generar_weibull(beta, Lambda):\n",
    "    \"\"\"\n",
    "    Genera una variable aleatoria weibull usando el metodo de transformada inversa\n",
    "    X ~ Weibull(beta, Lambda)\n",
    "    \"\"\"\n",
    "    U = random()\n",
    "    U = 1 / (1 - U)\n",
    "    return log(U) ** (1/beta) / Lambda"
   ]
  },
  {
   "cell_type": "code",
   "execution_count": 9,
   "id": "572ff9e9-d9c1-4022-b229-fee79111851c",
   "metadata": {},
   "outputs": [
    {
     "name": "stdout",
     "output_type": "stream",
     "text": [
      "+------+-------------------+--------------------+\n",
      "| E[X] |    valor real     |   valor estimado   |\n",
      "+------+-------------------+--------------------+\n",
      "|  i   |        2.0        | 1.9744102815520665 |\n",
      "|  ii  |        1.0        | 1.002870899174326  |\n",
      "| iii  | 0.886226925452758 | 0.892357926796895  |\n",
      "+------+-------------------+--------------------+\n"
     ]
    }
   ],
   "source": [
    "a, mu, k, beta, Lambda = 2, 2, 2, 2, 1\n",
    "N = 10**4\n",
    "# Esperanzas estimadas\n",
    "E_pareto_estimada  = estimar_esperanza(N, lambda: generar_pareto(a))\n",
    "E_erlang_estimada  = estimar_esperanza(N, lambda: generar_erlang(k, mu)) \n",
    "E_weibull_estimada = estimar_esperanza(N, lambda: generar_weibull(beta, Lambda))\n",
    "\n",
    "# Esperanzas reales\n",
    "E_pareto_real  = a / (a - 1)\n",
    "E_erlang_real  = k / mu\n",
    "E_weibull_real = gamma(1 + 1/beta) / Lambda\n",
    "\n",
    "datos_2 = [[\"i\"  , E_pareto_real , E_pareto_estimada],\n",
    "           [\"ii\" , E_erlang_real , E_erlang_estimada],\n",
    "           [\"iii\", E_weibull_real, E_weibull_estimada]\n",
    "          ]\n",
    "header_2 = [\"E[X]\", \"valor real\", \"valor estimado\"]\n",
    "print(tabulate(datos_2, headers=header_2, tablefmt=\"pretty\"))"
   ]
  },
  {
   "cell_type": "markdown",
   "id": "8d3f78ea-b17e-4d3a-862a-b5b9752c62c0",
   "metadata": {},
   "source": [
    "### Ejercicio 3"
   ]
  },
  {
   "cell_type": "code",
   "execution_count": 10,
   "id": "9eb6aeb1-79f4-4178-8aa4-ebbc2e6e3558",
   "metadata": {},
   "outputs": [],
   "source": [
    "# Genere datos usando tres exponenciales independientes con media 3,5 y 7 \n",
    "# respectivamente y p = (0.5, 0.3, 0.2)\n",
    "\n",
    "def variable_ej3():\n",
    "    \"\"\"\n",
    "    Genera la variable aleatoria del ejercicio 3 usando el metodo de composicion\n",
    "    \"\"\"\n",
    "    p       = [0.5, 0.3, 0.2] # Ponderacion de la combinacion lineal\n",
    "    lambdas = [1/3, 1/5, 1/7] # Parametro de las variables exponenciales\n",
    "    U, i, S = random(), 0, p[0]\n",
    "    while U > S:\n",
    "        i += 1\n",
    "        S += p[i]\n",
    "    \n",
    "    return generar_exp(lambdas[i])"
   ]
  },
  {
   "cell_type": "code",
   "execution_count": 11,
   "id": "d38ea179-3452-4102-baae-40d4f214d124",
   "metadata": {},
   "outputs": [
    {
     "name": "stdout",
     "output_type": "stream",
     "text": [
      "\n",
      "Esperanza exacta:   4.4\n",
      "Esperanza estimada: 4.418536576048766\n",
      "\n"
     ]
    }
   ],
   "source": [
    "N = 10**5\n",
    "esperanza_estimada_3 = estimar_esperanza(N, variable_ej3)\n",
    "esperanza_real_3     = 3*0.5 + 5*0.3 + 0.2*7  # Usando linealidad de la esperanza\n",
    "print(\"\"\"\n",
    "Esperanza exacta:   {}\n",
    "Esperanza estimada: {}\n",
    "\"\"\".format(esperanza_real_3, esperanza_estimada_3))"
   ]
  },
  {
   "cell_type": "markdown",
   "id": "a59b917f-d74d-457e-bff4-baa3d45b9f32",
   "metadata": {},
   "source": [
    "### Ejercicio 4"
   ]
  },
  {
   "cell_type": "code",
   "execution_count": 12,
   "id": "4464e667-1113-4853-bc7f-b361fb6555e0",
   "metadata": {},
   "outputs": [],
   "source": [
    "def generar_4():\n",
    "    \"\"\"\n",
    "    Genera la variable aleatoria descrita en el ejercicio 4\n",
    "    \"\"\"\n",
    "    Y = generar_exp(1)\n",
    "    U = random()\n",
    "    return U ** (1 / Y)"
   ]
  },
  {
   "cell_type": "markdown",
   "id": "c6700931-6962-4f3d-8cba-ca87d03ad5fd",
   "metadata": {},
   "source": [
    "### Ejercicio 5"
   ]
  },
  {
   "cell_type": "code",
   "execution_count": 13,
   "id": "29ff22a3-81df-49d1-a554-c2f773f124b8",
   "metadata": {},
   "outputs": [],
   "source": [
    "def generar_M(generadores):\n",
    "    \"\"\"\n",
    "    Genera la variable aleatoria M descrita en el ejercicio 5\n",
    "    Args:\n",
    "        generadores: Lista de generadores de las variables aleatorias involucradas\n",
    "    \"\"\"\n",
    "    M = generadores[0]()\n",
    "    for gen in generadores[1:]:\n",
    "        M = max(M, gen())\n",
    "    return M\n",
    "\n",
    "def generar_m(generadores):\n",
    "    \"\"\"\n",
    "    Genera la variable aleatoria m descrita en el ejercicio 5\n",
    "    Args:\n",
    "        generadores: Lista de generadores de la variables aleatorias involucradas\n",
    "    \"\"\"\n",
    "    m = generadores[0]()\n",
    "    for gen in generadores[1:]:\n",
    "        m = min(m, gen())\n",
    "    return m"
   ]
  },
  {
   "cell_type": "code",
   "execution_count": 14,
   "id": "3400625c-dad1-4f2e-96e8-7e8486bd5546",
   "metadata": {},
   "outputs": [
    {
     "name": "stdout",
     "output_type": "stream",
     "text": [
      "+----------+---------------------+---------------------+\n",
      "| Variable |  Esperanza exacta   | Esperanza estimada  |\n",
      "+----------+---------------------+---------------------+\n",
      "|    M     | 1.2166666666666668  | 1.2145962992721628  |\n",
      "|    m     | 0.16666666666666666 | 0.16722946863355637 |\n",
      "+----------+---------------------+---------------------+\n"
     ]
    }
   ],
   "source": [
    "# Genere una muestra de 10 valores de las variables M y m con distribuciones \n",
    "# FM y Fm si Xi son exponenciales independientes con parámetros 1,2 y 3 respectivamente\n",
    "\n",
    "# Esperanza exacta de m\n",
    "# Sabemos que por resultados teoricos esa variable es exponencial de parametro 1*2*3\n",
    "esperanza_m = 1 / (1 * 2 * 3)\n",
    "\n",
    "# Esperanza exacta de M\n",
    "# Por un resultado teorico de internet tenemos que la esperanza es igual a \n",
    "esperanza_M = 1/1 + 1/2 + 1/3 - 1/(1+2) - 1/(1+3) - 1/(2+3) + 1/(1+2+3) \n",
    "\n",
    "# Estimamos las esperanzas\n",
    "generadores = [lambda: generar_exp(1), lambda: generar_exp(2), lambda: generar_exp(3)]\n",
    "N = 10**5\n",
    "esperanza_estimada_m = estimar_esperanza(N, lambda: generar_m(generadores))\n",
    "esperanza_estimada_M = estimar_esperanza(N, lambda: generar_M(generadores))\n",
    "\n",
    "\n",
    "# Hacemos una tabla\n",
    "data_5 = [[\"M\", esperanza_M, esperanza_estimada_M],\n",
    "          [\"m\", esperanza_m, esperanza_estimada_m]\n",
    "         ]\n",
    "headers_5 = [\"Variable\", \"Esperanza exacta\", \"Esperanza estimada\"]\n",
    "\n",
    "print(tabulate(data_5, headers=headers_5, tablefmt=\"pretty\"))"
   ]
  },
  {
   "cell_type": "markdown",
   "id": "4ef56a6b-99b5-4b21-a368-9f02ec54009a",
   "metadata": {},
   "source": [
    "### Ejercicio 6"
   ]
  },
  {
   "cell_type": "code",
   "execution_count": 15,
   "id": "ad0dfb21-bbf4-4561-b515-604f757fe581",
   "metadata": {},
   "outputs": [],
   "source": [
    "def generar_6_TI(n):\n",
    "    \"\"\"\n",
    "    Genera la variable aleatoria del ejercicio 6 usando el metodo de la \n",
    "    transformada inversa\n",
    "    \"\"\"\n",
    "    U = random()\n",
    "    return U ** (1/n)\n",
    "\n",
    "def generar_6_M(n):\n",
    "    \"\"\"\n",
    "    Genera la variable aleatoria del ejercicio 6 usando el resultado del\n",
    "    ejercicio 5, la variable aleatoria M\n",
    "    \"\"\"\n",
    "    return generar_M([random]*n)\n",
    "\n",
    "def generar_6_AYR(n):\n",
    "    \"\"\"\n",
    "    Genera la variable aleatoria del ejercicio 6 usando el metodo de aceptacion \n",
    "    y rechazo a partir de una v.a. Y ~ U(0, 1)\n",
    "    \"\"\"\n",
    "    f_y = 1\n",
    "    f_x = lambda x: n * x**(n-1)\n",
    "    c   = n\n",
    "    while(True):\n",
    "        Y = random()\n",
    "        U = random()\n",
    "        if U < f_x(Y) / (n * f_y):\n",
    "            return Y"
   ]
  },
  {
   "cell_type": "code",
   "execution_count": 16,
   "id": "92e035d1-5459-455c-8200-b62794662117",
   "metadata": {},
   "outputs": [
    {
     "name": "stdout",
     "output_type": "stream",
     "text": [
      "+-----------+--------------------+-----------------------+\n",
      "| Algoritmo | Esperanza estimada | Tiempo requerido (ms) |\n",
      "+-----------+--------------------+-----------------------+\n",
      "|    TI     | 0.9091640853564626 |        18.5199        |\n",
      "|     M     | 0.9092202561752841 |       143.1956        |\n",
      "|    AYR    | 0.9091854350230144 |       232.0123        |\n",
      "+-----------+--------------------+-----------------------+\n",
      "Esperanza real 0.9090909090909091\n"
     ]
    }
   ],
   "source": [
    "# Comparamos los tiempos de ejecucion\n",
    "# la esperanza real de esta variable aleatoria es n / (n+1)\n",
    "\n",
    "n = 10\n",
    "N = 10**5\n",
    "\n",
    "esperanza_6_real = n\n",
    "tiempo_TI  , esperanza_TI  = tiempo_ejecucion(lambda: estimar_esperanza(N, lambda: generar_6_TI(n)))\n",
    "tiempo_M   , esperanza_M   = tiempo_ejecucion(lambda: estimar_esperanza(N, lambda: generar_6_M(n)))\n",
    "tiempo_AYR , esperanza_AYR = tiempo_ejecucion(lambda: estimar_esperanza(N, lambda: generar_6_AYR(n)))\n",
    "\n",
    "\n",
    "datos_6 = [[\"TI\" , esperanza_TI , tiempo_TI ],\n",
    "           [\"M\"  , esperanza_M  , tiempo_M  ],\n",
    "           [\"AYR\", esperanza_AYR, tiempo_AYR]\n",
    "          ]\n",
    "headers_6 = [\"Algoritmo\", \"Esperanza estimada\", \"Tiempo requerido (ms)\"]\n",
    "\n",
    "print(tabulate(datos_6, headers=headers_6, tablefmt=\"pretty\"))\n",
    "print(\"Esperanza real\", n / (n+1))"
   ]
  },
  {
   "cell_type": "markdown",
   "id": "a1eacfc6-f830-487b-b8cc-797fb28a2722",
   "metadata": {},
   "source": [
    "### Ejercicio 7"
   ]
  },
  {
   "cell_type": "code",
   "execution_count": 17,
   "id": "030be58b-40b9-4f0e-a113-1820b4b50193",
   "metadata": {},
   "outputs": [],
   "source": [
    "def generar_7_TI():\n",
    "    \"\"\"\n",
    "    Genera la variable aleatoria descrita en el ejercicio 7 usando el\n",
    "    metodo de la transformada inversa\n",
    "    \"\"\"\n",
    "    U = random()\n",
    "    return e ** U\n",
    "\n",
    "def generar_7_AYR():\n",
    "    \"\"\"\n",
    "    Genera la variable aleatoria descrita en el ejercicio 7 usando el\n",
    "    metodo de aceptacion y rechazo a partir una variable Y ~ U(0, e)\n",
    "    \"\"\"\n",
    "    f = lambda x: 1/x * (x >= 1 and x <= e)    # Pues f solo es no nula en ese intervalo\n",
    "    # g_y = 1/e por ser uniforme continua\n",
    "    # c   = e por analisis previo\n",
    "    # g_y * c = 1\n",
    "    while True:\n",
    "        Y = random() * e\n",
    "        U = random()\n",
    "        if U < f(Y):\n",
    "            return Y"
   ]
  },
  {
   "cell_type": "code",
   "execution_count": 18,
   "id": "15e4fe6f-976c-404e-a3d4-d887d8ecfd82",
   "metadata": {},
   "outputs": [
    {
     "name": "stdout",
     "output_type": "stream",
     "text": [
      "+-----------+--------------------+-----------------------+---------+\n",
      "| Algoritmo | Esperanza estimada | Tiempo esperanza (ms) | P[X<=2] |\n",
      "+-----------+--------------------+-----------------------+---------+\n",
      "|    TI     | 1.7183867696060757 |        22.2254        | 0.69499 |\n",
      "|    AYR    | 1.7176038749085918 |        70.9484        | 0.69624 |\n",
      "+-----------+--------------------+-----------------------+---------+\n",
      "Esperanza real:  1.718281828459045\n",
      "P[X<=2] real:    0.6931471805599453\n"
     ]
    }
   ],
   "source": [
    "# Esperanza real\n",
    "esperanza_7_real = e - 1\n",
    "\n",
    "# Estimamos las esperanzas\n",
    "N = 10**5\n",
    "tiempo_7_TI , esperanza_7_TI  = tiempo_ejecucion(lambda: estimar_esperanza(N, lambda: generar_7_TI()))\n",
    "tiempo_7_AYR, esperanza_7_AYR = tiempo_ejecucion(lambda: estimar_esperanza(N, lambda: generar_7_AYR()))\n",
    "\n",
    "# P(X <= 2) = log(2)\n",
    "px_real = log(2)\n",
    "px_TI   = 0\n",
    "px_AYR  = 0\n",
    "for _ in range(N):\n",
    "    if generar_7_TI() <= 2: \n",
    "        px_TI += 1\n",
    "    \n",
    "    if generar_7_AYR() <= 2:\n",
    "        px_AYR += 1\n",
    "\n",
    "px_TI  = px_TI  / N\n",
    "px_AYR = px_AYR / N \n",
    "\n",
    "\n",
    "datos_7 = [[\"TI\" , esperanza_7_TI , tiempo_7_TI , px_TI ],\n",
    "           [\"AYR\", esperanza_7_AYR, tiempo_7_AYR, px_AYR]\n",
    "          ]\n",
    "\n",
    "headers_7 = [\"Algoritmo\", \"Esperanza estimada\", \"Tiempo esperanza (ms)\", \"P[X<=2]\"]\n",
    "print(tabulate(datos_7, headers=headers_7, tablefmt=\"pretty\"))\n",
    "print(\"Esperanza real: \", esperanza_7_real)\n",
    "print(\"P[X<=2] real:   \"  , px_real)"
   ]
  },
  {
   "cell_type": "markdown",
   "id": "c9e072fa-71a6-4941-b0d2-4b1f76f5b487",
   "metadata": {},
   "source": [
    "### Ejercicio 8"
   ]
  },
  {
   "cell_type": "code",
   "execution_count": 19,
   "id": "f198ca2f-1e25-404f-ad97-a9e2e46eac54",
   "metadata": {},
   "outputs": [],
   "source": [
    "def generar_8():\n",
    "    \"\"\"\n",
    "    Genera la variable aleatoria del ejercicio 8 como suma de dos variables\n",
    "    uniformes\n",
    "    \"\"\"\n",
    "    U, V = random(), random()\n",
    "    return U + V\n",
    "\n",
    "def generar_8_TI():\n",
    "    \"\"\"\n",
    "    Genera la variable aleatoria del ejercicio 8 usando el metodo de la \n",
    "    transformada inversa\n",
    "    \"\"\"\n",
    "    U = random()\n",
    "    if U <= 0.5:\n",
    "        return (U*2) ** (1/2)\n",
    "    else: \n",
    "        return 2 - (2 - 2*U)**(1/2)\n",
    "def generar_8_AYR():\n",
    "    \"\"\"\n",
    "    Genera la variable aleatoria del ejercicio 8 usando el metodo de \n",
    "    aceptacion y rechazo con una variable Y ~ U(0, 2)\n",
    "    \"\"\"\n",
    "    f = lambda x: x * (x>=0 and x<=1) + (2-x) * (x>=1 and x<=2)\n",
    "    # c   = 2\n",
    "    # g_y = 1/2\n",
    "    # c * g_y = 1\n",
    "    \n",
    "    while True:\n",
    "        Y = random() * 2\n",
    "        U = random()\n",
    "        if U < f(Y):\n",
    "            return Y"
   ]
  },
  {
   "cell_type": "code",
   "execution_count": 20,
   "id": "b8a1e7a1-b436-425e-bdc2-8c89c75355b8",
   "metadata": {},
   "outputs": [
    {
     "name": "stdout",
     "output_type": "stream",
     "text": [
      "+-----------+--------------------+-----------------------+---------+\n",
      "| Algoritmo |     Esperanza      | Tiempo esperanza (ms) | P(X>x0) |\n",
      "+-----------+--------------------+-----------------------+---------+\n",
      "|   Suma    | 0.9994955784680849 |        21.946         | 0.12536 |\n",
      "|    TI     | 1.0020463432967897 |        22.3284        | 0.12327 |\n",
      "|    AYR    | 1.0025624926276981 |        70.8566        | 0.12433 |\n",
      "+-----------+--------------------+-----------------------+---------+\n"
     ]
    }
   ],
   "source": [
    "N = 10**5\n",
    "\n",
    "# Estimacion de la esperanza y eficiencia\n",
    "\n",
    "tiempo_8, e_8         = tiempo_ejecucion(lambda: estimar_esperanza(N, lambda: generar_8()))\n",
    "tiempo_8_TI, e_8_TI   = tiempo_ejecucion(lambda: estimar_esperanza(N, lambda: generar_8_TI()))\n",
    "tiempo_8_AYR, e_8_AYR = tiempo_ejecucion(lambda: estimar_esperanza(N, lambda: generar_8_AYR()))\n",
    "\n",
    "\n",
    "# P(X > x0) donde x0 = 1.5\n",
    "px_real = 0.125\n",
    "px_SUM  = 0\n",
    "px_TI   = 0\n",
    "px_AYR  = 0\n",
    "for _ in range(N):\n",
    "    if generar_8() > 1.5:\n",
    "        px_SUM += 1\n",
    "    \n",
    "    if generar_8_TI() > 1.5: \n",
    "        px_TI += 1\n",
    "    \n",
    "    if generar_8_AYR() > 1.5:\n",
    "        px_AYR += 1\n",
    "\n",
    "px_SUM = px_SUM / N\n",
    "px_TI  = px_TI  / N\n",
    "px_AYR = px_AYR / N \n",
    "\n",
    "data_8 = [[\"Suma\", e_8    , tiempo_8    , px_SUM ],\n",
    "          [\"TI\"  , e_8_TI , tiempo_8_TI , px_TI  ], \n",
    "          [\"AYR\" , e_8_AYR, tiempo_8_AYR, px_AYR ]]\n",
    "\n",
    "headers_8 = [\"Algoritmo\", \"Esperanza\", \"Tiempo esperanza (ms)\", \"P(X>x0)\"]\n",
    "\n",
    "print(tabulate(data_8, headers=headers_8, tablefmt=\"pretty\"))"
   ]
  },
  {
   "cell_type": "markdown",
   "id": "c0739cf8-362a-4765-b994-8eeb04b04158",
   "metadata": {},
   "source": [
    "### Ejercicio 9"
   ]
  },
  {
   "cell_type": "code",
   "execution_count": 21,
   "id": "483c8e65-42f0-407e-93ff-6a3dc838c694",
   "metadata": {},
   "outputs": [],
   "source": [
    "def normal_ross(mu=0, sigma=1):\n",
    "    \"\"\"\n",
    "    Genera una variable normal estandar (por defecto) usando el algoritmo descrito \n",
    "    en el libro de Sheldon Ross, el cual esta basado en el metodo de aceptacion y \n",
    "    rechazo\n",
    "    Args:\n",
    "        mu   : Esperanza de la variable normal\n",
    "        sigma: Desvio estandar de la variable normal \n",
    "    \"\"\"\n",
    "    while True:\n",
    "        Y1 = -log(random()) # Exponencial de parametro 1\n",
    "        Y2 = -log(random()) # Exponencial de parametro 1\n",
    "        if Y2 >= (Y1 - 1) ** 2 / 2:\n",
    "            # En este punto Y1 es una variable aleatoria con distribucion |Z|\n",
    "            # La siguiente comparacion es el metodo para generar Z con composicion\n",
    "            # a partir del generador de |Z|\n",
    "            if random() < 0.5:\n",
    "                return Y1 * sigma + mu\n",
    "            else:\n",
    "                return -Y1 * sigma + mu\n",
    "\n",
    "            \n",
    "def normal_polar(mu=0, sigma=1):\n",
    "    \"\"\"\n",
    "    Genera dos variables normales estandar (por defecto) usando el metodo polar\n",
    "    Args:\n",
    "        mu   : Esperanza de la variable normal\n",
    "        sigma: Desvio estandar de la variable normal \n",
    "    Return:\n",
    "        X, Y : Variables normales de parametros mu y sigma\n",
    "    \"\"\"\n",
    "    r_cuadrado = -2 * log(1 - random())\n",
    "    theta = 2 * pi * random()\n",
    "    X = r_cuadrado**(1/2) * cos(theta)\n",
    "    Y = r_cuadrado**(1/2) * sin(theta)\n",
    "    return (X * sigma + mu, Y * sigma + mu) \n",
    "\n",
    "\n",
    "NV_MAGICCONST = 4 * e**(-0.5) / (2.0)**(1/2)\n",
    "def normal_razon_uniformes(mu=0, sigma=1):\n",
    "    \"\"\"\n",
    "    Genera dos variables normales estandar (por defecto) usando el metodo de \n",
    "    razon entre uniformes\n",
    "    Args:\n",
    "        mu   : Esperanza de la variable normal\n",
    "        sigma: Desvio estandar de la variable normal \n",
    "    \"\"\"\n",
    "    while True:\n",
    "        u1 = random()\n",
    "        u2 = 1 - random()\n",
    "        z  = NV_MAGICCONST * (u1 - 0.5) / u2\n",
    "        zz = z * z / 4.0\n",
    "        if zz <= -log(u2):\n",
    "            break\n",
    "    return mu + z * sigma"
   ]
  },
  {
   "cell_type": "code",
   "execution_count": 22,
   "id": "57378b0e-3a9e-4032-9cc9-088c22f85eab",
   "metadata": {},
   "outputs": [
    {
     "name": "stdout",
     "output_type": "stream",
     "text": [
      "+-----------+-----------------------+------------+--------------------+------------+\n",
      "| Algoritmo |       Esperanza       | Tiempo(ms) |      Varianza      | Tiempo(ms) |\n",
      "+-----------+-----------------------+------------+--------------------+------------+\n",
      "|   Ross    | 0.002460412253742295  |   8.3768   | 1.0065115079420288 |   7.7386   |\n",
      "|   Polar   | 0.0054213614132910945 |   3.3927   | 0.9995351056622851 |   3.8972   |\n",
      "|   Razon   |  0.01372181370690598  |   4.5788   | 0.9876628315867166 |   5.4791   |\n",
      "+-----------+-----------------------+------------+--------------------+------------+\n"
     ]
    }
   ],
   "source": [
    "# Estimo la esperanza y comparo tiempos\n",
    "N = 10**4\n",
    "t_e_normal_ross , e_normal_ross  = tiempo_ejecucion(\n",
    "    lambda: estimar_esperanza(N, lambda: normal_ross()))\n",
    "t_e_normal_polar, e_normal_polar = tiempo_ejecucion(\n",
    "    lambda: estimar_esperanza(int(N/2), lambda: sum(normal_polar())))\n",
    "t_e_normal_razon, e_normal_razon = tiempo_ejecucion(\n",
    "    lambda: estimar_esperanza(N, lambda: normal_razon_uniformes()))\n",
    "\n",
    "# Estimo la varianza y comparo tiempos\n",
    "t_v_normal_ross, v_normal_ross = tiempo_ejecucion(\n",
    "    lambda: estimar_varianza(N, lambda: normal_ross(), media=0))\n",
    "t_v_normal_polar, v_normal_polar = tiempo_ejecucion(\n",
    "    lambda: estimar_varianza(int(N/2), lambda: sum(normal_polar()), media=0))\n",
    "t_v_normal_razon, v_normal_razon = tiempo_ejecucion(\n",
    "    lambda: estimar_varianza(N, lambda: normal_razon_uniformes(), media=0))\n",
    "\n",
    "# Ajusto las estimaciones polares porque generamos N/2 pares y los algoritmos\n",
    "# promedian con ese N/2 por lo cual debemos divir por 2 al resultado\n",
    "\n",
    "e_normal_polar = e_normal_polar / 2\n",
    "v_normal_polar = v_normal_polar / 2\n",
    "                              \n",
    "# Tabla comparativa\n",
    "data_9 = [\n",
    "    [\"Ross\" , e_normal_ross , t_e_normal_ross , v_normal_ross , t_v_normal_ross ],\n",
    "    [\"Polar\", e_normal_polar, t_e_normal_polar, v_normal_polar, t_v_normal_polar],\n",
    "    [\"Razon\", e_normal_razon, t_e_normal_razon, v_normal_razon, t_v_normal_razon],\n",
    "]\n",
    "\n",
    "headers_9 = [\"Algoritmo\", \"Esperanza\", \"Tiempo(ms)\", \"Varianza\", \"Tiempo(ms)\"]\n",
    "\n",
    "print(tabulate(data_9, headers=headers_9, tablefmt=\"pretty\"))"
   ]
  },
  {
   "cell_type": "markdown",
   "id": "6842a621-590c-4482-9a77-0b603e4084da",
   "metadata": {},
   "source": [
    "### Ejercicio 11"
   ]
  },
  {
   "cell_type": "code",
   "execution_count": 23,
   "id": "909168a8-d708-479a-b90d-2877c7f2f0f4",
   "metadata": {},
   "outputs": [],
   "source": [
    "radius = (1/pi) ** (1/2)\n",
    "def generar_cauchy(Lambda=1):\n",
    "    \"\"\"\n",
    "    Genera una variable aleatoria de Cauchy de parametro Lambda (por defecto 1)\n",
    "    usando el metodo de razon entre uniformes\n",
    "    \"\"\"\n",
    "    while True:\n",
    "        U = random() * radius\n",
    "        V = ((random() * 2) - 1) * radius\n",
    "        if U**2 + V**2 < radius**2:\n",
    "            return V/U * Lambda\n",
    "\n",
    "def acumulada_cauchy(x, Lambda=1):\n",
    "    \"\"\"\n",
    "    Calcula la probabilidad acumulada de una variable de cauchy de parametro Lambda\n",
    "    (1 por defecto) \n",
    "    return:\n",
    "        F(x)\n",
    "    \"\"\"\n",
    "    return (2*atan(x/Lambda) + pi) / (2 * pi) \n",
    "\n",
    "def prob_intervalo(alpha, generador, N):\n",
    "    \"\"\"\n",
    "    Estima la probabilidad de que la variable aleatoria generada por generador\n",
    "    este en el intervalo [-alpha, alpha]\n",
    "    Args:\n",
    "        alpha:     limite del intervalo\n",
    "        generador: generador de variable aleatoria\n",
    "        N:         cantidad de valores a generar\n",
    "    \"\"\"\n",
    "    en_intervalo = 0\n",
    "    for _ in range(N):\n",
    "        X = generador()\n",
    "        if abs(X) <= abs(alpha):\n",
    "            en_intervalo += 1\n",
    "    return en_intervalo / N"
   ]
  },
  {
   "cell_type": "code",
   "execution_count": 24,
   "id": "ac09caeb-8564-4310-ae2b-fe85591ee7d4",
   "metadata": {},
   "outputs": [
    {
     "name": "stdout",
     "output_type": "stream",
     "text": [
      "+------------+---------------------+----------------------+\n",
      "| Lambda (l) |  P(-l<=x<=l) real   | P(-l<=x<=l) estimado |\n",
      "+------------+---------------------+----------------------+\n",
      "|    1.0     |         0.5         |        0.4974        |\n",
      "|    2.5     | 0.7577621168183133  |        0.7505        |\n",
      "|    0.3     | 0.18554715815548478 |        0.1877        |\n",
      "+------------+---------------------+----------------------+\n"
     ]
    }
   ],
   "source": [
    "# Si X es una variable aleatoria continua de cauchy de parametro 1\n",
    "# P(-alpha <= X <= alpha) = F(alpha) - F(-alpha)\n",
    "p_lambda = lambda x: acumulada_cauchy(x) - acumulada_cauchy(-x)\n",
    "\n",
    "Lambdas  = [1, 2.5, 0.3]\n",
    "p_reales = list(map(p_lambda, Lambdas))\n",
    "\n",
    "# Estimo las probabilidades anteriores con 10000 valores\n",
    "N = 10000\n",
    "p_estimadas = list(map(lambda x: prob_intervalo(x, generar_cauchy, N), Lambdas))\n",
    "\n",
    "data_11    = np.array([Lambdas, p_reales, p_estimadas]).T\n",
    "headers_11 = [\"Lambda (l)\", \"P(-l<=x<=l) real\", \"P(-l<=x<=l) estimado\"]\n",
    "\n",
    "print(tabulate(data_11, headers=headers_11, tablefmt=\"pretty\"))"
   ]
  },
  {
   "cell_type": "markdown",
   "id": "cbd0514b-1ef9-46bd-a8a2-4d80cb8dee0e",
   "metadata": {},
   "source": [
    "### Ejercicio 12"
   ]
  },
  {
   "cell_type": "code",
   "execution_count": 25,
   "id": "886e81b5-4514-485a-bb68-eac425a701eb",
   "metadata": {},
   "outputs": [],
   "source": [
    "def generar_cauchy_TI(Lambda=1):\n",
    "    \"\"\"\n",
    "    Genera una variable aleatoria cauchy de parametro Lambda (1 por defecto) usando\n",
    "    el metodo de la transformada inversa\n",
    "    \"\"\"\n",
    "    U = random()\n",
    "    return tan((2*pi*U - pi)/2) * Lambda"
   ]
  },
  {
   "cell_type": "code",
   "execution_count": 26,
   "id": "a4be1da8-81cf-406d-be91-cec95ea82570",
   "metadata": {},
   "outputs": [
    {
     "name": "stdout",
     "output_type": "stream",
     "text": [
      "+------------+---------------------+----------------------+\n",
      "| Lambda (l) |  P(-l<=x<=l) real   | P(-l<=x<=l) estimado |\n",
      "+------------+---------------------+----------------------+\n",
      "|    1.0     |         0.5         |        0.493         |\n",
      "|    2.5     | 0.7577621168183133  |        0.7626        |\n",
      "|    0.3     | 0.18554715815548478 |        0.1872        |\n",
      "+------------+---------------------+----------------------+\n"
     ]
    }
   ],
   "source": [
    "# Si X es una variable aleatoria continua de cauchy de parametro 1\n",
    "# P(-alpha <= X <= alpha) = F(alpha) - F(-alpha)\n",
    "p_lambda = lambda x: acumulada_cauchy(x) - acumulada_cauchy(-x)\n",
    "\n",
    "Lambdas  = [1, 2.5, 0.3]\n",
    "p_reales = list(map(p_lambda, Lambdas))\n",
    "\n",
    "# Estimo las probabilidades anteriores con 10000 valores\n",
    "N = 10000\n",
    "p_estimadas = list(map(lambda x: prob_intervalo(x, generar_cauchy_TI, N), Lambdas))\n",
    "\n",
    "data_11    = np.array([Lambdas, p_reales, p_estimadas]).T\n",
    "headers_11 = [\"Lambda (l)\", \"P(-l<=x<=l) real\", \"P(-l<=x<=l) estimado\"]\n",
    "\n",
    "print(tabulate(data_11, headers=headers_11, tablefmt=\"pretty\"))"
   ]
  },
  {
   "cell_type": "code",
   "execution_count": 27,
   "id": "ff25a055-c089-455a-af83-c64cadd39a56",
   "metadata": {},
   "outputs": [
    {
     "name": "stdout",
     "output_type": "stream",
     "text": [
      "\n",
      "Tiempo necesario para estimar 100000 variables aleatorias\n",
      "Tiempo razon uniformes      = 48.0638 ms\n",
      "Tiempo transformada inversa = 25.8522 ms\n",
      "\n"
     ]
    }
   ],
   "source": [
    "# Comparacion de eficiencia. \n",
    "# Generamos N = 10**5 variables cauchy\n",
    "N = 10**5\n",
    "tiempo_cauchy_razon = tiempo_ejecucion(lambda: estimar_esperanza(N, generar_cauchy))[0]\n",
    "tiempo_cauchy_TI    = tiempo_ejecucion(lambda: estimar_esperanza(N, generar_cauchy_TI))[0]\n",
    "\n",
    "print(f\"\"\"\n",
    "Tiempo necesario para estimar {10**5} variables aleatorias\n",
    "Tiempo razon uniformes      = {tiempo_cauchy_razon} ms\n",
    "Tiempo transformada inversa = {tiempo_cauchy_TI} ms\n",
    "\"\"\")"
   ]
  },
  {
   "cell_type": "markdown",
   "id": "33d638f0-6a9e-49a5-b364-5cde5989e5bb",
   "metadata": {},
   "source": [
    "### Ejercicio 13"
   ]
  },
  {
   "cell_type": "code",
   "execution_count": 28,
   "id": "a9a1d667-4c2d-4a1c-9d47-97dd49af0c5a",
   "metadata": {},
   "outputs": [],
   "source": [
    "def eventos_poisson(Lambda, T):\n",
    "    \"\"\"\n",
    "    Genera la variable aleatoria N(T) ligada a un proceso de poisson homogeneo\n",
    "    de parametro Lambda usando el hecho de que el tiempo entre arribos es una \n",
    "    variable exponencial de parametro Lambda\n",
    "    Args:\n",
    "        Lambda: Intensidad del proceso de poisson\n",
    "        T     : Limite del intervalo [0, T]\n",
    "    Return:\n",
    "        N_T    : Cantidad de eventos ocurridos en el intervalo [0, T] \n",
    "        eventos: Momento en que ocurrio cada evento \n",
    "    \"\"\"\n",
    "    t, N_T, eventos = 0, 0, []\n",
    "    while t < T:\n",
    "        U  = 1 - random()\n",
    "        t += - log(U) / Lambda # Exponencial de parametro lambda\n",
    "        if t <= T:\n",
    "            N_T += 1\n",
    "            eventos.append(t)\n",
    "    return N_T, eventos\n",
    "\n",
    "\n",
    "def poisson_TI_optimizado(Lambda):\n",
    "    \"\"\"\n",
    "    Genera una variable aleatoria de Poisson de parametro Lambda usando\n",
    "    el metodo de la transformada inversa con una pequeña optimizacion\n",
    "    Args:\n",
    "        Lambda: Parametro de la poisson a generar\n",
    "    \"\"\"\n",
    "    p = e ** -Lambda \n",
    "    F = p\n",
    "    for j in range(1, int(Lambda) + 1):\n",
    "        p *= Lambda / j\n",
    "        F += p\n",
    "    U = random()\n",
    "    if U >= F:\n",
    "        j = int(Lambda) + 1\n",
    "        while U >= F:\n",
    "            p *= Lambda / j\n",
    "            F += p\n",
    "            j += 1\n",
    "        return j-1\n",
    "    else:\n",
    "        j = int(Lambda)\n",
    "        while U < F:\n",
    "            F -= p\n",
    "            p *= j / Lambda\n",
    "            j -= 1\n",
    "        return j + 1\n",
    "    \n",
    "def eventos_poisson_alt(Lambda, T):\n",
    "    \"\"\"\n",
    "    Genera la variable aleatoria N(T) ligada a un proceso de poisson homogeneo\n",
    "    de parametro Lambda usando el hecho de que dado N(T), la cual es una poisson,\n",
    "    el tiempo de arribos del proceso involucrado es uniforme en [0, T]\n",
    "    Args:\n",
    "        Lambda: Intensidad del proceso de poisson\n",
    "        T     : Limite del intervalo [0, T]\n",
    "    Return:\n",
    "        N_T    : Cantidad de eventos ocurridos en el intervalo [0, T] \n",
    "        eventos: Momento en que ocurrio cada evento \n",
    "    \"\"\"\n",
    "    N_T     = poisson_TI_optimizado(Lambda * T)\n",
    "    eventos = []\n",
    "    for _ in range(N_T):\n",
    "        eventos.append(random()*T)\n",
    "    eventos.sort()\n",
    "    return N_T, eventos"
   ]
  },
  {
   "cell_type": "markdown",
   "id": "ce3c9f33-3880-40ec-bd03-c98c21b6d7dc",
   "metadata": {},
   "source": [
    "### Ejercicio 14"
   ]
  },
  {
   "cell_type": "code",
   "execution_count": 29,
   "id": "69fdeea9-edee-4130-8171-8dcd23c6eadb",
   "metadata": {},
   "outputs": [],
   "source": [
    "def simular_aficionados(Lambda, t):\n",
    "    \"\"\"\n",
    "    Simula la situacion descrita en el ejercicio 14.\n",
    "    Args:\n",
    "        Lambda: Intensidad del proceso de Poisson\n",
    "        t     : Duracion del periodo que simularemos\n",
    "    return:\n",
    "        Cantidad de fanaticos que llegaron al evento en un periodo de tiempo t\n",
    "    \"\"\"\n",
    "    n_colectivos = poisson_TI_optimizado(Lambda * t)\n",
    "    n_fanaticos  = 0\n",
    "    for _ in range(n_colectivos):\n",
    "        n_fanaticos += int(random()*21) + 20\n",
    "    return n_fanaticos"
   ]
  },
  {
   "cell_type": "markdown",
   "id": "791166a3-f5d1-43d8-9d11-819ad7f15fce",
   "metadata": {},
   "source": [
    "### Ejercicio 15"
   ]
  },
  {
   "cell_type": "code",
   "execution_count": 37,
   "id": "84dd946c-1466-4be9-b420-86a90d2313a9",
   "metadata": {},
   "outputs": [],
   "source": [
    "def proceso_poisson_no_homo(Lambda, f_Lambda, T):\n",
    "    \"\"\"\n",
    "    Genera un proceso de poisson no homogeneo con intensidad f_Lambda\n",
    "    a partir de un proceso de poisson homogeneo\n",
    "    Args:\n",
    "        Lambda  : Intensidad del proceso homogeneo\n",
    "        f_Lambda: Funcion de intensidad del proceso no homogeneo\n",
    "        T       : Longitud del intervalo [0, T]\n",
    "    Return:\n",
    "        Nt      : Cantidad total de eventos ocurridos en tiempo T\n",
    "        eventos : Tiempo de cada uno de los eventos\n",
    "    \"\"\"\n",
    "    NT      = 0\n",
    "    eventos = []\n",
    "    t = - log(1 - random()) / Lambda\n",
    "    while t <= T:\n",
    "        V = random()\n",
    "        if V <= f_Lambda(t) / Lambda:\n",
    "            NT += 1\n",
    "            eventos.append(t)\n",
    "        t += -log(1 - random()) / Lambda\n",
    "    return NT, eventos\n",
    "\n",
    "def proceso_poisson_no_homo_opt(Lambdas, f_Lambdas, intervalos, T):\n",
    "    \"\"\"\n",
    "    Genera un proceso de poisson no homogeneo con intensidad f_Lambda\n",
    "    a partir de un proceso de poisson homogeneo (un proceso distinto por\n",
    "    cada intervalo)\n",
    "    Args:\n",
    "        Lambdas    : Lista de intensidades del proceso homogeneo\n",
    "        f_Lambdas  : Lista de funciones de intensidad del proceso no homogeneo\n",
    "        intervalos : Lista de intervalos en el cual partimos el dominio \n",
    "                     de la funcion de intensidad.\n",
    "        T          : Longitud del intervalo [0, T]\n",
    "    Return:\n",
    "        Nt      : Cantidad total de eventos ocurridos en tiempo T\n",
    "        eventos : Tiempo de cada uno de los eventos\n",
    "    \"\"\"\n",
    "    j  = 0   # Lo usamos para recorrer los intervalos\n",
    "    t  = -log(1-random()) / Lambdas[j]\n",
    "    NT = 0\n",
    "    eventos = []\n",
    "    while t <= T:\n",
    "        if t <= intervalos[j]:\n",
    "            v = random()\n",
    "            if v <= f_Lambdas[j](t) / Lambdas[j]: # Decidimos si contar el evento\n",
    "                NT += 1\n",
    "                eventos.append(t)\n",
    "            t += -log(1-random()) / Lambdas[j]\n",
    "        else: # El ultimo evento quedo fuera del rango del proceso j \n",
    "            # Convertimos el excedente, que es una variable exponencial, en una variable\n",
    "            # exponencial del parametro lambda apropiado\n",
    "            t = intervalos[j] + (t - intervalos[j]) * Lambdas[j] / Lambdas[j+1]\n",
    "            j += 1\n",
    "    return NT, eventos"
   ]
  },
  {
   "cell_type": "code",
   "execution_count": 40,
   "id": "29b355df-9430-4aae-9f86-9ba52dd4b132",
   "metadata": {},
   "outputs": [],
   "source": [
    "# Ejercicio a\n",
    "# Parametros para el inciso i\n",
    "f_Lambda_i = lambda t: (3 + 4/(t+1)) * (0<=t<=3)\n",
    "Lambda_i   = 7\n",
    "\n",
    "# Parametros para el inciso ii\n",
    "f_Lambda_ii = lambda t: ((t-2)**2 - 5*t + 17) * (0<=t<=5) \n",
    "Lambda_ii   = 21\n",
    "\n",
    "# Parametros para el inciso iii\n",
    "f_Lambda_iii = lambda t: (t/2 + 1) * (2<=t<=3) + (1 - t/6) * (3<=t<=6)\n",
    "Lambda_iii   = 0.5\n",
    "\n",
    "# Ejercicio b\n",
    "# Parametros para el inciso i\n",
    "Lambdas_i    = [7, 5, 13/3]\n",
    "f_Lambdas_i  = [f_Lambda_ii] * 3\n",
    "intervalos_i = [1, 2, 3]\n",
    "\n",
    "# Parametros para el inciso ii\n",
    "Lambdas_ii    = [21, 7, 11]\n",
    "f_Lambdas_ii  = [f_Lambda_ii] * 3\n",
    "intervalos_ii = [2, 4, 5]\n",
    "\n",
    "# Parametros para el inciso iii\n",
    "Lambdas_iii    = [0.5, 0.5, 1/3]\n",
    "f_Lambdas_iii  = [f_Lambda_iii] * 3\n",
    "intervalos_iii = [3, 4, 6]"
   ]
  }
 ],
 "metadata": {
  "kernelspec": {
   "display_name": "Python 3 (ipykernel)",
   "language": "python",
   "name": "python3"
  },
  "language_info": {
   "codemirror_mode": {
    "name": "ipython",
    "version": 3
   },
   "file_extension": ".py",
   "mimetype": "text/x-python",
   "name": "python",
   "nbconvert_exporter": "python",
   "pygments_lexer": "ipython3",
   "version": "3.8.10"
  }
 },
 "nbformat": 4,
 "nbformat_minor": 5
}
