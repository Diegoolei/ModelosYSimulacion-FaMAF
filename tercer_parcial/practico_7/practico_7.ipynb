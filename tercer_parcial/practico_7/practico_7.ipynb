{
 "cells": [
  {
   "cell_type": "markdown",
   "id": "7339b577-7e19-4656-b2da-36442dd3e6c8",
   "metadata": {},
   "source": [
    "### Imports\n"
   ]
  },
  {
   "cell_type": "code",
   "execution_count": 42,
   "id": "9d07846c-7c53-4e01-b9a9-ec1d447e3c9a",
   "metadata": {},
   "outputs": [],
   "source": [
    "import numpy as np\n",
    "from scipy.stats import chi2\n",
    "from random import random, gauss, gammavariate\n",
    "from tabulate import tabulate\n",
    "from math import exp, comb, log, sqrt, erf\n"
   ]
  },
  {
   "cell_type": "markdown",
   "id": "876372ac-7204-4854-9e80-168f0a2b3b12",
   "metadata": {},
   "source": [
    "### Funciones generales\n"
   ]
  },
  {
   "cell_type": "code",
   "execution_count": 43,
   "id": "8e85aa1d-1cce-4f25-9a31-999e57bcecaf",
   "metadata": {},
   "outputs": [],
   "source": [
    "def generar_muestra(generador, n):\n",
    "    \"\"\"\n",
    "    Genera una muestra de tamaño n de una variable aleatoria\n",
    "    Args:\n",
    "        generador:    Generador de la variable aleatoria\n",
    "        n        :    Tamaño de la muestra\n",
    "    \"\"\"\n",
    "    datos = []\n",
    "    for _ in range(n):\n",
    "        datos.append(generador())\n",
    "    return datos\n",
    "\n",
    "\n",
    "def generar_binomial(N, P):\n",
    "    \"\"\"\n",
    "    Genera un valor de la variable aleatoria binomial usando el metodo de la \n",
    "    transformada inversa\n",
    "    Args:\n",
    "        N: Cantidad de ensayos independientes\n",
    "        P: Probabilidad de exito de ensayo\n",
    "    \"\"\"\n",
    "    prob = (1 - P) ** N\n",
    "    c = P / (1 - P)\n",
    "    F = prob\n",
    "    i = 0\n",
    "    U = random()\n",
    "    while U >= F:\n",
    "        prob *= c * (N-i) / (i+1)\n",
    "        F += prob\n",
    "        i += 1\n",
    "    return i\n",
    "\n",
    "\n",
    "def generar_exp(Lambda):\n",
    "    \"\"\"\n",
    "    Genera una variable aleatoria exponencial usando el metodo de la transformada\n",
    "    inversa\n",
    "    Args:\n",
    "        Lambda: Parametro de la variable aleatoria exponencial\n",
    "    \"\"\"\n",
    "    U = random()\n",
    "    return -log(U) / Lambda\n",
    "\n",
    "\n",
    "def uniforme_d(n, m):\n",
    "    \"\"\"\n",
    "    Genera numeros aleatorios entre n y m (inclusive) \n",
    "    \"\"\"\n",
    "    U = int(random() * (m - n + 1))  # 0 <= U < (m-n+1) Equivale a 0 <= U <= (m-n)\n",
    "    U = U + n                        # Equivale a n <= U <= m\n",
    "    return U\n",
    "\n",
    "\n",
    "def permutar(a):\n",
    "    \"\"\"\n",
    "    Permuta el arreglo a\n",
    "    args: \n",
    "        a: Arreglo a permutar\n",
    "    return:\n",
    "        a_p: Arreglo permutado\n",
    "    \"\"\"\n",
    "    N = len(a)\n",
    "    a_p = a.copy()\n",
    "    for i in range(N):\n",
    "        U = uniforme_d(i, N-1)             # Numero aleatorio entre [i, N-1]\n",
    "        a_p[U], a_p[i] = a_p[i], a_p[U]    # Permutamos un elemento del arreglo\n",
    "    return a_p\n"
   ]
  },
  {
   "cell_type": "markdown",
   "id": "853ee353-aa9d-431b-8aea-4be1cf4d4cd9",
   "metadata": {},
   "source": [
    "### Funciones generales (Test para datos discretos)\n"
   ]
  },
  {
   "cell_type": "code",
   "execution_count": 44,
   "id": "3b45ee8a-8942-48b5-bfe4-729de293fa2b",
   "metadata": {},
   "outputs": [],
   "source": [
    "def calcular_T(N, p):\n",
    "    \"\"\"\n",
    "    Calcula el estadistico T dado en el test chi-cuadrado de \n",
    "    Pearson.\n",
    "    ¡Ambas entradas deben estar ordenadas de menor a mayor respecto\n",
    "    al valor de variable aleatoria al que hacen referencia!\n",
    "    Args:\n",
    "        N:    Frecuencia observada de la muestra\n",
    "        p:    Probabilidad de los valores posibles de la variable aleatoria\n",
    "    \"\"\"\n",
    "    n = sum(N)    # Tamaño de la muestra\n",
    "    T = sum((N - n*p)**2 / (n*p))\n",
    "    return T\n",
    "\n",
    "\n",
    "def p_valor_pearson(t, grados_libertad):\n",
    "    \"\"\"\n",
    "    Calcula el p-valor usando los resultados teoricos que dictan:\n",
    "    Ph0(T >= t) = P(X_k-1 >= t)\n",
    "    Args:\n",
    "        t              :    Resultado del estadistico en la muestra\n",
    "        grados_libertad:    Grados de libertad de la variable chi-cuadrada\n",
    "    \"\"\"\n",
    "    acumulada_chi = chi2.cdf(t, grados_libertad)\n",
    "    p_valor = 1 - acumulada_chi\n",
    "    return p_valor\n",
    "\n",
    "\n",
    "def generar_frecuencia_observada(n, p_masa, k):\n",
    "    \"\"\"\n",
    "    Genera la frecuencia observada usando una variable aleatoria binomial\n",
    "    Args:\n",
    "        n     :   Tamaño de la muestra\n",
    "        p_masa:   Probabilidad masa de los valores posibles de la distribucion \n",
    "                  de la hipotesis nula\n",
    "        k     :   Cantidad total de valores posibles de la variable con distribucion\n",
    "                  dada en la hipotesis nula\n",
    "    \"\"\"\n",
    "    N = np.zeros(k)\n",
    "    N[0] = generar_binomial(n, p_masa[0])\n",
    "    for i in range(1, k-1):\n",
    "        N[i] = generar_binomial(\n",
    "            n - sum(N[:i]), p_masa[i] / (1 - sum(p_masa[:i])))\n",
    "    N[k-1] = n - sum(N[:k-1])\n",
    "    return np.array(N)\n",
    "\n",
    "\n",
    "def estimar_p_valor_pearson(t, Nsim, p, k, n):\n",
    "    \"\"\"\n",
    "    Estima el p_valor por medio de una simulacion P(T >= t)\n",
    "    Args:\n",
    "        t   :   Valor del estadistico en la muestra original\n",
    "        Nsim:   Cantidad de simulaciones a realizar\n",
    "        p   :   Probabilidad masa de los valores posibles de la distribucion \n",
    "                de la hipotesis nula\n",
    "        k   :   Cantidad total de valores posibles de la variable con distribucion\n",
    "                dada en la hipotesis nula\n",
    "        n   :   Tamaño de la muestra original\n",
    "    \"\"\"\n",
    "    p_valor = 0\n",
    "    for _ in range(Nsim):\n",
    "        # Frecuencia observada en la simulacion\n",
    "        N_sim = generar_frecuencia_observada(n, p, k)\n",
    "        # Estadistico de la simulacion\n",
    "        t_sim = calcular_T(N_sim, p)\n",
    "        if t_sim >= t:\n",
    "            p_valor += 1\n",
    "    return p_valor / Nsim\n"
   ]
  },
  {
   "cell_type": "markdown",
   "id": "92fe981e-667e-474e-ab7f-c4cb8d55b10f",
   "metadata": {},
   "source": [
    "### Funciones generales (Test para datos continuos)\n"
   ]
  },
  {
   "cell_type": "code",
   "execution_count": 45,
   "id": "a6784642-158b-42ac-90d0-7cb1d8e2ea43",
   "metadata": {},
   "outputs": [],
   "source": [
    "def calcular_D(muestra, acumulada_h):\n",
    "    \"\"\"\n",
    "    Calcula el estadistico dado en el test de Kolmogorov-Smirnov\n",
    "    Args:\n",
    "        muestra    :    Muestra original de datos\n",
    "        acumulada_h:    Acumulada de la distribucion de la hipotesis nula\n",
    "    \"\"\"\n",
    "    n = len(muestra)\n",
    "    m_copy = list.copy(muestra)\n",
    "    m_copy.sort()\n",
    "    m_copy = np.array(m_copy)\n",
    "\n",
    "    # Vectores_auxiliares\n",
    "    F = np.array(list(map(acumulada_h, m_copy)))\n",
    "    j = np.array(list(range(1, n+1))) / n\n",
    "    j_1 = j - 1/n\n",
    "\n",
    "    m1 = max(j - F)\n",
    "    m2 = max(F - j_1)\n",
    "    D = max(m1, m2)\n",
    "    return D\n",
    "\n",
    "\n",
    "def acumulada_uniforme(x):\n",
    "    \"\"\"\n",
    "    Acumulada de la distribucion uniforme (U(0, 1))\n",
    "    \"\"\"\n",
    "    if x < 0:\n",
    "        return 0\n",
    "    elif x < 1:\n",
    "        return x\n",
    "    else:\n",
    "        return 1\n",
    "\n",
    "\n",
    "def estimar_p_valor_k(d, Nsim, n):\n",
    "    \"\"\"\n",
    "    Estima el p-valor por medio de simulacion P(D >= d)\n",
    "    args:\n",
    "        d   :    Valor del estadistico en la muestra original\n",
    "        Nsim:    Cantidad de simulaciones a realizar\n",
    "        n   :    Tamaño de la muestra original\n",
    "    \"\"\"\n",
    "    p_valor = 0\n",
    "    for _ in range(Nsim):\n",
    "        muestra_sim = generar_muestra(random, n)    # Muestra de uniformes\n",
    "        muestra_sim.sort()\n",
    "        d_sim = calcular_D(muestra_sim, acumulada_uniforme)\n",
    "        if d_sim >= d:\n",
    "            p_valor += 1\n",
    "    return p_valor / Nsim\n"
   ]
  },
  {
   "cell_type": "markdown",
   "id": "0b47f073-ec9a-4d89-ae12-52d7b4376a8f",
   "metadata": {},
   "source": [
    "### Ejercicio 1\n"
   ]
  },
  {
   "cell_type": "code",
   "execution_count": 46,
   "id": "782dedb2-722f-46d0-9253-95c5c6fc327e",
   "metadata": {},
   "outputs": [
    {
     "name": "stdout",
     "output_type": "stream",
     "text": [
      "[141 291 132]\n",
      "+--------------------+--------------------+\n",
      "|  P-valor Pearson   | P-valor simulacion |\n",
      "+--------------------+--------------------+\n",
      "| 0.6499557054800363 |       0.648        |\n",
      "+--------------------+--------------------+\n"
     ]
    }
   ],
   "source": [
    "# Datos de la muestra\n",
    "# Mapeamos a cada flor con un valor discreto asi podemos modelarla con una variable\n",
    "# aleatoria\n",
    "# Flor Blanca ----> 0\n",
    "# Flor Rosa   ----> 1\n",
    "# Flor Roja   ----> 2\n",
    "N_1 = np.array([141, 291, 132])    # Frecuencia observada.\n",
    "# Masa de nuestra distribucion de la hipotesis nula.\n",
    "p_1 = np.array([1/4, 1/2, 1/4])\n",
    "n_1 = 564                          # Tamaño de la muestra\n",
    "t_1 = calcular_T(N_1, p_1)         # Valor del estadisctico en la muestra\n",
    "# Cantidad de valores posibles de la muestra (dado por H0)\n",
    "k_1 = 3\n",
    "print(N_1)\n",
    "# Aproximo el p-valor\n",
    "# Usando la prueba de pearson\n",
    "p_valor_1 = p_valor_pearson(t_1, grados_libertad=k_1 - 1)\n",
    "\n",
    "# Usando una simulacion\n",
    "Nsim = 10**3\n",
    "p_valor_est_1 = estimar_p_valor_pearson(t_1, Nsim, p_1, k_1, n_1)\n",
    "\n",
    "data_1 = [[p_valor_1, p_valor_est_1]]\n",
    "headers_1 = [\"P-valor Pearson\", \"P-valor simulacion\"]\n",
    "print(tabulate(data_1, headers=headers_1, tablefmt=\"pretty\"))\n"
   ]
  },
  {
   "cell_type": "markdown",
   "id": "af660035-7e6d-46e9-978e-84a82fd6fd3d",
   "metadata": {},
   "source": [
    "### Ejercicio 2\n"
   ]
  },
  {
   "cell_type": "code",
   "execution_count": 47,
   "id": "d9dded8a-57b4-478c-bfc9-a58b5cb0ed86",
   "metadata": {},
   "outputs": [
    {
     "name": "stdout",
     "output_type": "stream",
     "text": [
      "+--------------------+--------------------+\n",
      "|  P-valor Pearson   | P-valor simulacion |\n",
      "+--------------------+--------------------+\n",
      "| 0.8237195392577814 |       0.803        |\n",
      "+--------------------+--------------------+\n"
     ]
    }
   ],
   "source": [
    "# Datos de la muestra\n",
    "N_2 = np.array([158, 172, 164,     # Frecuencia observada.\n",
    "                181, 160, 165])\n",
    "# Masa de nuestra distribucion de la hipotesis nula.\n",
    "p_2 = np.array([1/6] * 6)\n",
    "n_2 = 1000                         # Tamaño de la muestra\n",
    "t_2 = calcular_T(N_2, p_2)         # Valor del estadisctico en la muestra\n",
    "k_2 = 6                            # Cantidad de valores posibles en la muestra\n",
    "\n",
    "# Aproximo el p-valor\n",
    "# Usando la prueba de pearson\n",
    "p_valor_2 = p_valor_pearson(t_2, grados_libertad=k_2 - 1)\n",
    "\n",
    "# Usando una simulacion\n",
    "Nsim = 10**3\n",
    "p_valor_est_2 = estimar_p_valor_pearson(t_2, Nsim, p_2, k_2, n_2)\n",
    "\n",
    "data_2 = [[p_valor_2, p_valor_est_2]]\n",
    "headers_2 = [\"P-valor Pearson\", \"P-valor simulacion\"]\n",
    "print(tabulate(data_2, headers=headers_2, tablefmt=\"pretty\"))\n"
   ]
  },
  {
   "cell_type": "markdown",
   "id": "0dfe854c-9c97-4bb5-972b-25195607bd5d",
   "metadata": {},
   "source": [
    "### Ejercicio 3\n"
   ]
  },
  {
   "cell_type": "code",
   "execution_count": 48,
   "id": "e9177f75-2589-430d-bd2a-ccbac4f4672b",
   "metadata": {},
   "outputs": [
    {
     "name": "stdout",
     "output_type": "stream",
     "text": [
      "+------------------+-------------+\n",
      "| p-valor estimado | Estadistico |\n",
      "+------------------+-------------+\n",
      "|      0.5418      |    0.24     |\n",
      "+------------------+-------------+\n"
     ]
    }
   ],
   "source": [
    "# Datos de la muestra\n",
    "muestra_3 = [0.12, 0.18, 0.06, 0.33, 0.72, 0.83, 0.36, 0.27, 0.77, 0.74]\n",
    "\n",
    "d_3 = calcular_D(muestra_3, acumulada_uniforme)    # Valor del estadistico\n",
    "n_3 = len(muestra_3)                               # Tamaño de la muestra\n",
    "\n",
    "# Estimamos el p-valor usando simulaciones\n",
    "Nsim = 10**4\n",
    "p_valor_3 = estimar_p_valor_k(d_3, Nsim, n_3)\n",
    "\n",
    "data_3 = [[p_valor_3, d_3]]\n",
    "headers_3 = [\"p-valor estimado\", \"Estadistico\"]\n",
    "\n",
    "print(tabulate(data_3, headers=headers_3, tablefmt=\"pretty\"))\n"
   ]
  },
  {
   "cell_type": "markdown",
   "id": "a732e515-b53f-4232-96a6-6c2cb246e14a",
   "metadata": {},
   "source": [
    "### Ejercicio 4\n"
   ]
  },
  {
   "cell_type": "code",
   "execution_count": 49,
   "id": "fc183d0f-4e8c-414d-967a-8bb01b1e3b01",
   "metadata": {},
   "outputs": [],
   "source": [
    "def acumulada_4(x):\n",
    "    \"\"\"\n",
    "    Acumulada de la distribucion dada en la hipotesis nula (e(1/50))\n",
    "    \"\"\"\n",
    "    if x < 0:\n",
    "        return 0\n",
    "    else:\n",
    "        Lambda = 1/50\n",
    "        return 1 - exp(-Lambda * x)\n"
   ]
  },
  {
   "cell_type": "code",
   "execution_count": 50,
   "id": "7cc73c72-6e08-4e0f-9874-c15019f434fd",
   "metadata": {},
   "outputs": [
    {
     "name": "stdout",
     "output_type": "stream",
     "text": [
      "+------------------+--------------------+\n",
      "| p-valor estimado |    Estadistico     |\n",
      "+------------------+--------------------+\n",
      "|      0.0268      | 0.3922544552361856 |\n",
      "+------------------+--------------------+\n"
     ]
    }
   ],
   "source": [
    "# Datos de la muestra\n",
    "muestra_4 = [86, 133, 75, 22, 11, 144, 78, 122, 8, 146, 33, 41, 99]\n",
    "d_4 = calcular_D(muestra_4, acumulada_4)    # Valor del estadistico\n",
    "n_4 = len(muestra_4)                        # Tamaño de la muestra\n",
    "\n",
    "# Estimamos el p-valor usando simulaciones\n",
    "Nsim = 10**4\n",
    "p_valor_4 = estimar_p_valor_k(d_4, Nsim, n_4)\n",
    "\n",
    "data_4 = [[p_valor_4, d_4]]\n",
    "headers_4 = [\"p-valor estimado\", \"Estadistico\"]\n",
    "\n",
    "print(tabulate(data_4, headers=headers_4, tablefmt=\"pretty\"))\n"
   ]
  },
  {
   "cell_type": "markdown",
   "id": "95cff841-5655-4a1c-b80e-64d3591c9a82",
   "metadata": {},
   "source": [
    "### Ejercicio 5\n"
   ]
  },
  {
   "cell_type": "code",
   "execution_count": 51,
   "id": "37d5f179-cc80-424a-99cd-1cf61e653978",
   "metadata": {},
   "outputs": [],
   "source": [
    "def masa_5(x, p):\n",
    "    \"\"\"\n",
    "    Funcion de probabilidad de masa de la distribucion dada en la \n",
    "    hipotesis nula en el ejercicio 5 \n",
    "    \"\"\"\n",
    "    N = 8   # Parametro de la binomial\n",
    "    if x < 0:\n",
    "        return 0\n",
    "    else:\n",
    "        return comb(N, x) * p**x * (1-p)**(N-x)\n"
   ]
  },
  {
   "cell_type": "code",
   "execution_count": 52,
   "id": "f13b37bc-b90c-48df-a29e-9e2cfc59ca75",
   "metadata": {},
   "outputs": [
    {
     "name": "stdout",
     "output_type": "stream",
     "text": [
      "+--------------------+------------------------+------------------+\n",
      "|   Estadistico T    |  p-valor por Pearson   | p-valor simulado |\n",
      "+--------------------+------------------------+------------------+\n",
      "| 31.499330934155324 | 5.0279943204278865e-05 |      0.0094      |\n",
      "+--------------------+------------------------+------------------+\n"
     ]
    }
   ],
   "source": [
    "# Datos de la muestra\n",
    "muestra_5 = [6, 7, 3, 4, 7, 3, 7, 2, 6, 3, 7, 8, 2, 1, 3, 5, 8, 7]\n",
    "n_5 = len(muestra_5)                # Tamaño de la muestra\n",
    "N_5 = [0, 1, 2, 4, 1, 1, 2, 5, 2]   # Frecuencia observada\n",
    "k_5 = 9                             # Valores posibles en la muestra\n",
    "\n",
    "# Como hipotesis tenemos que los provienen de una variable binomial Bin(n=8, p)\n",
    "# con el parametro p desconocido, por lo cual debemos estimarlo\n",
    "p_5_est = sum(muestra_5) / n_5      # Estimacion de la esperanza bin(8, p) = 8*p\n",
    "p_5_est = p_5_est / 8               # Estimacion de p\n",
    "\n",
    "# Vector que contiene las probabilidades teoricas para cada valor posible de la\n",
    "# variable aleatoria \n",
    "p_5 = np.array(list(map(lambda x: masa_5(x, p_5_est), list(range(0, 9)))))      \n",
    "\n",
    "# Ahora podemos calcular T\n",
    "t_5 = calcular_T(N_5, p_5)\n",
    "\n",
    "# Aproximamos el p-valor\n",
    "# Usando la prueba de Pearson\n",
    "p_valor_5 = p_valor_pearson(t_5, grados_libertad = k_5 - 2)   \n",
    "\n",
    "\n",
    "# Usando simulacion\n",
    "Nsim = 10**4\n",
    "p_valor_5_sim = 0\n",
    "for _ in range(Nsim):\n",
    "    # Muestra generada a partir de la distribucion con el parametro estimado\n",
    "    # en la muestra original\n",
    "    muestra_sim = generar_muestra(lambda: generar_binomial(8, p_5_est), n_5)\n",
    "    \n",
    "    # Re-estimamos el parametro p pero ahora con esta muestra\n",
    "    p_sim_est = sum(muestra_sim) / len(muestra_sim) / 8\n",
    "    \n",
    "    # Calculamos la frecuencia observada en la muestra\n",
    "    N_sim = np.zeros(9)\n",
    "    for dato in muestra_sim:\n",
    "        N_sim[dato] += 1\n",
    "        \n",
    "    # Calculamos la probabilidad de masa teorica de cada valor posible con el parametro\n",
    "    # estimado con la muestra de la simulacion\n",
    "    p_sim = np.array(list(map(lambda x: masa_5(x, p_sim_est), list(range(0, 9)))))\n",
    "    # Calculamos el valor del estadistico de la simulacion\n",
    "    t_sim = calcular_T(N_sim, p_sim)\n",
    "\n",
    "    if t_sim > t_5:\n",
    "        p_valor_5_sim += 1\n",
    "        \n",
    "p_valor_5_sim = p_valor_5_sim / Nsim\n",
    "\n",
    "datos_5   = [[t_5, p_valor_5, p_valor_5_sim]]\n",
    "headers_5 = [\"Estadistico T\", \"p-valor por Pearson\", \"p-valor simulado\"]\n",
    "\n",
    "print(tabulate(datos_5, headers=headers_5, tablefmt=\"pretty\"))"
   ]
  },
  {
   "cell_type": "markdown",
   "id": "d442f27c-0097-4060-9f60-d1ac8b4e721a",
   "metadata": {},
   "source": [
    "### Ejercicio 6\n"
   ]
  },
  {
   "cell_type": "code",
   "execution_count": 53,
   "id": "712147c4-2ee2-496f-85fb-34949d3f43f8",
   "metadata": {},
   "outputs": [
    {
     "name": "stdout",
     "output_type": "stream",
     "text": [
      "+---------------------+--------------------+-------------------+\n",
      "|   p-valor Pearson   | p-valor Simulacion |    Estadistico    |\n",
      "+---------------------+--------------------+-------------------+\n",
      "| 0.36605389988682613 |       0.3533       | 9.810370888711903 |\n",
      "+---------------------+--------------------+-------------------+\n"
     ]
    }
   ],
   "source": [
    "N_6 = [188, 138, 87, 65, 48,        # Frecuencia observada\n",
    "       32,  30, 34, 13,  2]\n",
    "k_6 = 10                            # Cantidad posible de valores de la distribucion H0\n",
    "p_6 = np.array([0.31, 0.22, 0.12,   # Probabilidad de masa para cada valor de la hipotesis\n",
    "                0.10, 0.08, 0.06,\n",
    "                0.04, 0.04, 0.02,\n",
    "                0.01])\n",
    "t_6 = calcular_T(N_6, p_6)          # Estadistico de la muestra original\n",
    "n_6 = sum(N_6)                      # Tamaño de la muestra original\n",
    "\n",
    "# Estimamos el p-valor\n",
    "# Usando la prueba de Pearson\n",
    "p_valor_6 = p_valor_pearson(t_6, grados_libertad=k_6-1)\n",
    "\n",
    "# Usando simulacion\n",
    "Nsim = 10**4\n",
    "p_valor_6_sim = estimar_p_valor_pearson(t_6, Nsim, p_6, k_6, n_6)\n",
    "\n",
    "data_6 = [[p_valor_6, p_valor_6_sim, t_6]]\n",
    "headers_6 = [\"p-valor Pearson\", \"p-valor Simulacion\", \"Estadistico\"]\n",
    "\n",
    "print(tabulate(data_6, headers=headers_6, tablefmt=\"pretty\"))\n"
   ]
  },
  {
   "cell_type": "markdown",
   "id": "301fb25b-c274-46b7-9a1d-fd2e7cfeb057",
   "metadata": {},
   "source": [
    "### Ejercicio 7\n"
   ]
  },
  {
   "cell_type": "code",
   "execution_count": 54,
   "id": "c3416d64-b7d1-4dd0-857d-9b56b45972ff",
   "metadata": {},
   "outputs": [],
   "source": [
    "def acumulada_7(x):\n",
    "    \"\"\"\n",
    "    Acumulada de la distribucion dada en la hipotesis nula (e(1))\n",
    "    \"\"\"\n",
    "    if x < 0:\n",
    "        return 0\n",
    "    else:\n",
    "        Lambda = 1\n",
    "        return 1 - exp(-Lambda * x)\n"
   ]
  },
  {
   "cell_type": "code",
   "execution_count": 68,
   "id": "d848b46c-b7d0-4d23-a309-cb6eb87466a1",
   "metadata": {},
   "outputs": [
    {
     "name": "stdout",
     "output_type": "stream",
     "text": [
      "[0.2727424247683454, 0.5192651264663054, 2.107705961978529, 0.03792379875403855, 0.6921926213044001, 2.310402081391086, 0.0579246808262929, 1.6272924469195063, 1.4341344211560354, 0.2136124516397159]\n",
      "0.1616784391368581\n",
      "+-----------------------+------------------+\n",
      "| Valor del estadistico | P-valor estimado |\n",
      "+-----------------------+------------------+\n",
      "|  0.1616784391368581   |      0.9214      |\n",
      "+-----------------------+------------------+\n"
     ]
    }
   ],
   "source": [
    "# Generamos una muestra de 10 valores de una exponencial(1)\n",
    "muestra_7 = generar_muestra(lambda: generar_exp(1), 10)\n",
    "n_7 = 10                                   # Tamaño de la muestra\n",
    "d_7 = calcular_D(muestra_7, acumulada_7)   # Estadistico de Kolmogorov-Smirnov\n",
    "print(d_7)\n",
    "\n",
    "# Estimamos el p_valor\n",
    "Nsim = 10**4\n",
    "p_valor_7 = estimar_p_valor_k(d_7, Nsim, n_7)\n",
    "\n",
    "data_7 = [[d_7, p_valor_7]]\n",
    "headers_7 = [\"Valor del estadistico\", \"P-valor estimado\"]\n",
    "\n",
    "print(tabulate(data_7, headers=headers_7, tablefmt=\"pretty\"))\n"
   ]
  },
  {
   "cell_type": "markdown",
   "id": "73767934-7eee-4767-8c7c-64897344d743",
   "metadata": {},
   "source": [
    "### Ejercicio 8\n"
   ]
  },
  {
   "cell_type": "code",
   "execution_count": 56,
   "id": "82749eb8-1726-498b-9d9b-0f82fd65e3ec",
   "metadata": {},
   "outputs": [],
   "source": [
    "def rt(df):\n",
    "    \"\"\"\n",
    "    Genera variables aleatorias de una distribucion t-student\n",
    "    Args:\n",
    "        df: Grados de libertad de la distribucion\n",
    "    \"\"\"\n",
    "    x = gauss(0.0, 1.0)\n",
    "    y = 2.0 * gammavariate(0.5*df, 2.0)\n",
    "    return x / (sqrt(y/df))\n",
    "\n",
    "# La acumulada de la distribucion de nuestra hipotesis\n",
    "\n",
    "\n",
    "def acumulada_z(x):\n",
    "    \"\"\"\n",
    "    Distribucion acumulada de la variable aleatoria normal estandar N(0, 1)\n",
    "    \"\"\"\n",
    "    return erf(x/sqrt(2.))/2.+0.5\n"
   ]
  },
  {
   "cell_type": "code",
   "execution_count": 57,
   "id": "2858a4a0-85c5-4b34-9b6f-a71424a033be",
   "metadata": {},
   "outputs": [
    {
     "name": "stdout",
     "output_type": "stream",
     "text": [
      "+----------------------+---------------------+------------------+\n",
      "| Tamaño de la muestra |     Estadistico     | p-valor estimado |\n",
      "+----------------------+---------------------+------------------+\n",
      "|          10          | 0.19123882714498086 |      0.798       |\n",
      "|          20          | 0.23246969293848257 |      0.194       |\n",
      "|         100          | 0.12189128787792924 |      0.081       |\n",
      "|         1000         | 0.09625357920825578 |       0.0        |\n",
      "+----------------------+---------------------+------------------+\n"
     ]
    }
   ],
   "source": [
    "# Generamos la muestra de 10, 20, 100 y 1000 elementos de la t_studen de 11 grados\n",
    "# de libertad\n",
    "muestra_8_10 = generar_muestra(lambda: rt(df=11), 10)\n",
    "muestra_8_20 = generar_muestra(lambda: rt(df=11), 20)\n",
    "muestra_8_100 = generar_muestra(lambda: rt(df=11), 100)\n",
    "muestra_8_1000 = generar_muestra(lambda: rt(df=11), 1000)\n",
    "\n",
    "# Calculo los respectivos estadisticos D\n",
    "d_8_10 = calcular_D(muestra_8_10, acumulada_z)\n",
    "d_8_20 = calcular_D(muestra_8_20, acumulada_z)\n",
    "d_8_100 = calcular_D(muestra_8_100, acumulada_z)\n",
    "d_8_1000 = calcular_D(muestra_8_1000, acumulada_z)\n",
    "\n",
    "# Estimo los respectivos p-valores\n",
    "Nsim = 10**3\n",
    "p_valor_8_10 = estimar_p_valor_k(d_8_10, Nsim, 10)\n",
    "p_valor_8_20 = estimar_p_valor_k(d_8_20, Nsim, 20)\n",
    "p_valor_8_100 = estimar_p_valor_k(d_8_100, Nsim, 100)\n",
    "p_valor_8_1000 = estimar_p_valor_k(d_8_1000, Nsim, 1000)\n",
    "\n",
    "# Tabla de datos\n",
    "data_8 = [[10, d_8_10, p_valor_8_10],\n",
    "          [20, d_8_20, p_valor_8_20],\n",
    "          [100, d_8_100, p_valor_8_100],\n",
    "          [1000, d_8_1000, p_valor_8_1000]]\n",
    "\n",
    "headers_8 = [\"Tamaño de la muestra\", \"Estadistico\", \"p-valor estimado\"]\n",
    "\n",
    "print(tabulate(data_8, headers=headers_8, tablefmt=\"pretty\"))\n"
   ]
  },
  {
   "cell_type": "markdown",
   "id": "ed32a27f-fb4d-442d-b55b-c3c3a907f9e2",
   "metadata": {},
   "source": [
    "### Ejercicio 9\n"
   ]
  },
  {
   "cell_type": "code",
   "execution_count": 58,
   "id": "1fec4e23-4f7b-4bed-b58b-a3a6170b2bfa",
   "metadata": {},
   "outputs": [],
   "source": [
    "def acumulada_9(x, Lambda):\n",
    "    \"\"\"\n",
    "    Acumulada de la distribucion dada en la hipotesis nula en el ejercicio 9 \n",
    "    \"\"\"\n",
    "    if x < 0:\n",
    "        return 0\n",
    "    else:\n",
    "        return 1 - exp(-Lambda * x)\n"
   ]
  },
  {
   "cell_type": "code",
   "execution_count": 59,
   "id": "9059b872-0c27-4353-a9f8-963759293f1c",
   "metadata": {},
   "outputs": [
    {
     "name": "stdout",
     "output_type": "stream",
     "text": [
      "+----------------------+---------------------+------------------------+---------------------+\n",
      "| Parametro λ estimado | p-valor (uniformes) | p-valor (no uniformes) |     Estadistico     |\n",
      "+----------------------+---------------------+------------------------+---------------------+\n",
      "| 0.09322560596643878  |       0.1899        |         0.0488         | 0.26949936321059237 |\n",
      "+----------------------+---------------------+------------------------+---------------------+\n"
     ]
    }
   ],
   "source": [
    "muestra_9 = [1.6, 10.3, 3.5, 13.5, 18.4, 7.7, 24.3,\n",
    "             10.7, 8.4, 4.9, 7.9, 12, 16.2, 6.8, 14.7]\n",
    "\n",
    "n_9 = len(muestra_9)   # Tamaño de la muestra\n",
    "\n",
    "# Como hipotesis nula tenemos que estos datos provienen de una variable\n",
    "# con distribucion exponencial de parametro desconocido.\n",
    "\n",
    "# procedemos a estimar ese parametro\n",
    "Lambda_9_est = sum(muestra_9) / n_9   # Estimamos E[e(λ)] = 1/λ\n",
    "Lambda_9_est = 1 / Lambda_9_est       # Invertimos y obtenemos λ\n",
    "\n",
    "# Calculamos el valor del estimador en la muestra original\n",
    "d_9 = calcular_D(muestra_9, lambda x: acumulada_9(x, Lambda_9_est))\n",
    "\n",
    "# Estimamos el p-valor por medio de simulaciones sobre uniformes (no es fiable)\n",
    "Nsim = 10**4\n",
    "p_valor_9 = estimar_p_valor_k(d_9, Nsim, n_9)\n",
    "\n",
    "# Estimamos el p-valor con una simulacion mas certera (calculando estadisticos\n",
    "# de muestras con distribucion H0)\n",
    "p_valor_9_sim = 0\n",
    "\n",
    "for _ in range(Nsim):\n",
    "    # Generamos la muestra a partir de la distribucion \"original\"\n",
    "    muestra_sim = generar_muestra(lambda: generar_exp(Lambda_9_est), n_9)\n",
    "    # Reestimamos el parametro desconocido\n",
    "    Lambda_sim = n_9 / sum(muestra_sim)\n",
    "    # Calculamos el estadistico de la simulacion usando el parametro estimado\n",
    "    d_sim = calcular_D(muestra_sim, lambda x: acumulada_9(x, Lambda_sim))\n",
    "    if d_sim > d_9:\n",
    "        p_valor_9_sim += 1\n",
    "\n",
    "p_valor_9_sim = p_valor_9_sim / Nsim\n",
    "\n",
    "\n",
    "data_9 = [[Lambda_9_est, p_valor_9, p_valor_9_sim, d_9]]\n",
    "headers_9 = [\"Parametro λ estimado\",\n",
    "             \"p-valor (uniformes)\", \"p-valor (no uniformes)\", \"Estadistico\"]\n",
    "\n",
    "\n",
    "print(tabulate(data_9, headers=headers_9, tablefmt=\"pretty\"))\n"
   ]
  },
  {
   "cell_type": "markdown",
   "id": "c9b26c87-cf72-4341-88cc-f30a4f026fdc",
   "metadata": {},
   "source": [
    "### Ejercicio 10\n"
   ]
  },
  {
   "cell_type": "code",
   "execution_count": 60,
   "id": "cf0a1783-c113-431f-beca-7348942e9fbd",
   "metadata": {},
   "outputs": [],
   "source": [
    "def acumulada_10(x, mu, sigma):\n",
    "    \"\"\"\n",
    "    Distribucion acumulada de la variable aleatoria dada como \n",
    "    hipotesis nula en el ejercicio 10\n",
    "    \"\"\"\n",
    "    return erf((x-mu)/(sigma*sqrt(2.)))/2.+0.5\n",
    "\n",
    "\n",
    "def normal_ross(mu=0, sigma=1):\n",
    "    \"\"\"\n",
    "    Genera una variable normal estandar (por defecto) usando el algoritmo descrito \n",
    "    en el libro de Sheldon Ross, el cual esta basado en el metodo de aceptacion y \n",
    "    rechazo\n",
    "    Args:\n",
    "        mu   : Esperanza de la variable normal\n",
    "        sigma: Desvio estandar de la variable normal \n",
    "    \"\"\"\n",
    "    while True:\n",
    "        Y1 = -log(random())  # Exponencial de parametro 1\n",
    "        Y2 = -log(random())  # Exponencial de parametro 1\n",
    "        if Y2 >= (Y1 - 1) ** 2 / 2:\n",
    "            # En este punto Y1 es una variable aleatoria con distribucion |Z|\n",
    "            # La siguiente comparacion es el metodo para generar Z con composicion\n",
    "            # a partir del generador de |Z|\n",
    "            if random() < 0.5:\n",
    "                return Y1 * sigma + mu\n",
    "            else:\n",
    "                return -Y1 * sigma + mu\n"
   ]
  },
  {
   "cell_type": "code",
   "execution_count": 61,
   "id": "037b6f29-a227-4013-90f1-098753a7fa71",
   "metadata": {},
   "outputs": [
    {
     "name": "stdout",
     "output_type": "stream",
     "text": [
      "+--------------------+-------------------+---------------------+------------------------+\n",
      "|     μ estiamdo     |    σ estimado     | p-valor (uniformes) | p-valor (no uniformes) |\n",
      "+--------------------+-------------------+---------------------+------------------------+\n",
      "| 104.13333333333334 | 9.397420664816233 |       0.6737        |         0.2385         |\n",
      "+--------------------+-------------------+---------------------+------------------------+\n"
     ]
    }
   ],
   "source": [
    "muestra_10 = [91.9, 97.8, 111.4, 122.3, 105.4, 95.0,\n",
    "              103.8, 99.6,  96.6, 119.3, 104.8, 101.7]\n",
    "\n",
    "n_10 = len(muestra_10)    # Tamaño de la muestra\n",
    "\n",
    "# Por la hipotesis nula suponemos que los datos provienen de una variable\n",
    "# normal la cual desconocemos sus parametros, procedemos a estimarlos\n",
    "\n",
    "# Estimacion de la media de la normal\n",
    "mu_10_est = sum(muestra_10) / n_10\n",
    "sigma_10_est = sum(\n",
    "    list(map(lambda x: (x - mu_10_est)**2, muestra_10))) / (n_10 - 1)\n",
    "# Estimacion de la desviacion\n",
    "sigma_10_est = sqrt(sigma_10_est)\n",
    "\n",
    "# Calculamos el valor de estimador D\n",
    "d_10 = calcular_D(muestra_10, lambda x: acumulada_10(\n",
    "    x, mu_10_est, sigma_10_est))\n",
    "\n",
    "# Estimamos el p-valor\n",
    "Nsim = 10**4\n",
    "p_valor_10 = estimar_p_valor_k(d_10, Nsim, n_10)\n",
    "\n",
    "# Estimamos el p-valor con una simulacion mas certera (calculando estadisticos\n",
    "# de muestras con distribucion H0)\n",
    "p_valor_10_sim = 0\n",
    "\n",
    "for _ in range(Nsim):\n",
    "    # Generamos la muestra a partir de la distribucion \"original\"\n",
    "    muestra_sim = generar_muestra(\n",
    "        lambda: normal_ross(mu_10_est, sigma_10_est), n_10)\n",
    "\n",
    "    # Reestimamos los parametros desconocidos\n",
    "    mu_sim = sum(muestra_sim) / n_10\n",
    "    sigma_sim = sqrt(\n",
    "        sum(list(map(lambda x: (x - mu_sim)**2, muestra_sim))) / n_10)\n",
    "\n",
    "    # Calculamos el estadistico de la simulacion usando los parametros estimados\n",
    "    d_sim = calcular_D(\n",
    "        muestra_sim, lambda x: acumulada_10(x, mu_sim, sigma_sim))\n",
    "\n",
    "    if d_sim > d_10:\n",
    "        p_valor_10_sim += 1\n",
    "\n",
    "p_valor_10_sim = p_valor_10_sim / Nsim\n",
    "\n",
    "\n",
    "data_10 = [[mu_10_est, sigma_10_est, p_valor_10, p_valor_10_sim]]\n",
    "headers_10 = [\"μ estiamdo\", \"σ estimado\",\n",
    "              \"p-valor (uniformes)\", \"p-valor (no uniformes)\"]\n",
    "\n",
    "\n",
    "print(tabulate(data_10, headers=headers_10, tablefmt=\"pretty\"))\n"
   ]
  },
  {
   "cell_type": "markdown",
   "id": "3d445799-4965-4601-b5e1-de27c1503446",
   "metadata": {},
   "source": [
    "### Funciones generales (problemas de dos muestras)\n"
   ]
  },
  {
   "cell_type": "code",
   "execution_count": 62,
   "id": "0ad70ce8-da4f-4d36-9f20-64267279dadb",
   "metadata": {},
   "outputs": [],
   "source": [
    "def calcular_R(datos_1, datos_2):\n",
    "    \"\"\"\n",
    "    Calcula el valor del estadistico dado en el test de suma de rangos\n",
    "    Args:\n",
    "        datos_1:   Primera muestra\n",
    "        datos_2:   Segunda muestra\n",
    "    \"\"\"\n",
    "    n = len(datos_1)\n",
    "    m = len(datos_2)\n",
    "    R = 0\n",
    "\n",
    "    datos = np.array(datos_1 + datos_2)   # Lista auxiliar\n",
    "    orden = np.argsort(datos)             # Indices ordenados\n",
    "\n",
    "    for i in range(n + m):\n",
    "        if orden[i] < n:\n",
    "            R += i + 1\n",
    "    return R\n",
    "\n",
    "\n",
    "def rangos(n, m, r):\n",
    "    \"\"\"\n",
    "    Formula recursiva para calcular Pn,m(r) = Ph0(R <= r)\n",
    "    \"\"\"\n",
    "    if n == 1 and m == 0:\n",
    "        if r < 1:\n",
    "            p = 0\n",
    "        else:\n",
    "            p = 1\n",
    "    elif n == 0 and m == 1:\n",
    "        if r < 0:\n",
    "            p = 0\n",
    "        else:\n",
    "            p = 1\n",
    "    else:\n",
    "        if n == 0:\n",
    "            p = rangos(0, m-1, r)\n",
    "        elif m == 0:\n",
    "            p = rangos(n-1, 0, r-n)\n",
    "        else:  # n>0, m>0\n",
    "            p = (n*rangos(n-1, m, r-n-m)+m*rangos(n, m-1, r))/(n+m)\n",
    "    return p\n",
    "\n",
    "\n",
    "def p_valor_recursivo(n, m, r):\n",
    "    \"\"\"\n",
    "    Calcula el p_valor usando la formula recursiva Pn,m(r) = Ph0(R <= r)\n",
    "    Args:\n",
    "        n:    Cantidad de elementos en la muestra 1\n",
    "        m:    Cantidad de elementos en la muestra 2\n",
    "        r:    Rango de la muestra original\n",
    "    \"\"\"\n",
    "    p_valor = 2 * min(rangos(n, m, r), 1 - rangos(n, m, r-1))\n",
    "    return p_valor\n",
    "\n",
    "\n",
    "def p_valor_normal(n, m, r):\n",
    "    \"\"\"\n",
    "    Calcula el p_valor usando la distribucion normal estandar\n",
    "    Args:\n",
    "        n:    Cantidad de elementos en la muestra 1\n",
    "        m:    Cantidad de elementos en la muestra 2\n",
    "        r:    Rango de la muestra original\n",
    "    \"\"\"\n",
    "    def cdf_z(x): return erf(x/sqrt(2))/2 + \\\n",
    "        0.5           # Acumulada de la normal estandar\n",
    "    r_star = (r - n*(n+m+1)/2) / sqrt(n*m*(n+m+1)/12)   # r* de la teoria\n",
    "    p_valor = 2 * min(cdf_z(r_star), 1 - cdf_z(r_star))\n",
    "    return p_valor\n",
    "\n",
    "\n",
    "def estimar_p_valor_r(r, Nsim, n, m):\n",
    "    \"\"\"\n",
    "    Estima el p-valor por medio de simulaciones\n",
    "    Args:\n",
    "        r   :   Estadistico R de la muestra original \n",
    "        Nsim:   Cantidad de simulaciones a realizar\n",
    "        n   :   Tamaño de la primera muestra\n",
    "        m   :   Tamaño de la segunda muestra\n",
    "    \"\"\"\n",
    "    mayor_a_r = 0\n",
    "    menor_a_r = 0\n",
    "    aux = list(range(1, n+m+1))   # Arreglo para generar estadisticos\n",
    "    for _ in range(Nsim):\n",
    "        aux = permutar(aux)\n",
    "        r_sim = sum(aux[:n])\n",
    "        if r_sim >= r:\n",
    "            mayor_a_r += 1\n",
    "        if r_sim <= r:\n",
    "            menor_a_r += 1\n",
    "\n",
    "    p_valor = 2 * min(mayor_a_r, menor_a_r) / Nsim\n",
    "    return p_valor\n"
   ]
  },
  {
   "cell_type": "markdown",
   "id": "d8776228-c4b3-4481-b000-709882dd8ccc",
   "metadata": {},
   "source": [
    "### Ejercicio 11\n"
   ]
  },
  {
   "cell_type": "code",
   "execution_count": 63,
   "id": "4e5ad921-585b-401a-bef3-5950b3bd2f84",
   "metadata": {},
   "outputs": [
    {
     "name": "stdout",
     "output_type": "stream",
     "text": [
      "+--------------------+--------------------+----------------------+\n",
      "|   p-valor exacto   |  p-valor (normal)  | p-valor (simulacion) |\n",
      "+--------------------+--------------------+----------------------+\n",
      "| 0.1255411255411254 | 0.1003482464622909 |        0.1298        |\n",
      "+--------------------+--------------------+----------------------+\n"
     ]
    }
   ],
   "source": [
    "muestra_11_1 = [65.2, 67.1, 69.4, 78.4, 74.0, 80.3]   # Primera muestra\n",
    "muestra_11_2 = [59.4, 72.1, 68.0, 66.2, 58.5]         # Segunda muestra\n",
    "r_11 = calcular_R(muestra_11_1, muestra_11_2)         # Estadistico R\n",
    "\n",
    "n_11 = len(muestra_11_1)    # Tamaño de la primera muestra\n",
    "m_11 = len(muestra_11_2)    # Tamaño de la segunda muestra\n",
    "\n",
    "# Calcular el p−valor exacto de este conjunto de datos\n",
    "p_valor_exacto_11 = p_valor_recursivo(n_11, m_11, r_11)\n",
    "\n",
    "# Calcular el p−valor aproximado en base a una aproximación normal\n",
    "p_valor_normal_11 = p_valor_normal(n_11, m_11, r_11)\n",
    "\n",
    "# Calcular el p−valor aproximado en base a una simulación\n",
    "Nsim = 10**4\n",
    "p_valor_sim_11 = estimar_p_valor_r(r_11, Nsim, n_11, m_11)\n",
    "\n",
    "\n",
    "data_11 = [[p_valor_exacto_11, p_valor_normal_11, p_valor_sim_11]]\n",
    "headers_11 = [\"p-valor exacto\", \"p-valor (normal)\", \"p-valor (simulacion)\"]\n",
    "print(tabulate(data_11, headers=headers_11, tablefmt=\"pretty\"))\n"
   ]
  },
  {
   "cell_type": "markdown",
   "id": "dbf4768b-9b8b-41f4-af9f-3e9483f5ed52",
   "metadata": {},
   "source": [
    "### Ejercicio 12\n"
   ]
  },
  {
   "cell_type": "code",
   "execution_count": 64,
   "id": "6331fc06-8f8b-4824-ad15-bc8b399f8a53",
   "metadata": {},
   "outputs": [
    {
     "name": "stdout",
     "output_type": "stream",
     "text": [
      "+--------------------+--------------------+----------------------+\n",
      "|   p-valor exacto   |  p-valor (normal)  | p-valor (simulacion) |\n",
      "+--------------------+--------------------+----------------------+\n",
      "| 0.7103729603729604 | 0.6547208460185772 |        0.6988        |\n",
      "+--------------------+--------------------+----------------------+\n"
     ]
    }
   ],
   "source": [
    "# A pesar de que no todos los valores sean distintos tenemos la suerte\n",
    "# de que entre ambas muestras no hay valores en comun, entonces podemos\n",
    "# usar los algoritmos de siempre sin preocupaciones\n",
    "\n",
    "muestra_12_1 = [19, 31, 39, 45, 47, 66, 75]     # Primera muestra\n",
    "muestra_12_2 = [28, 36, 44, 49, 52, 72, 72]     # Segunda muestra\n",
    "r_12 = calcular_R(muestra_12_1, muestra_12_2)   # Estadistico de la muestra\n",
    "n_12 = len(muestra_12_1)   # Tamaño de la primera muestra\n",
    "m_12 = len(muestra_12_2)   # Tamaño de la segunda muestra\n",
    "\n",
    "\n",
    "# Calcular el p−valor exacto de este conjunto de datos\n",
    "p_valor_exacto_12 = p_valor_recursivo(n_12, m_12, r_12)\n",
    "\n",
    "# Calcular el p−valor aproximado en base a una aproximación normal\n",
    "p_valor_normal_12 = p_valor_normal(n_12, m_12, r_12)\n",
    "\n",
    "# Calcular el p−valor aproximado en base a una simulación\n",
    "Nsim = 10**4\n",
    "p_valor_sim_12 = estimar_p_valor_r(r_12, Nsim, n_12, m_12)\n",
    "\n",
    "\n",
    "data_12 = [[p_valor_exacto_12, p_valor_normal_12, p_valor_sim_12]]\n",
    "headers_12 = [\"p-valor exacto\", \"p-valor (normal)\", \"p-valor (simulacion)\"]\n",
    "print(tabulate(data_12, headers=headers_12, tablefmt=\"pretty\"))\n"
   ]
  },
  {
   "cell_type": "markdown",
   "id": "e58b4b91-143a-4d7e-a530-6874018af773",
   "metadata": {},
   "source": [
    "### Ejercicio 13\n"
   ]
  },
  {
   "cell_type": "code",
   "execution_count": 65,
   "id": "c7afdbed-e018-4bec-86af-2a1f1a269d93",
   "metadata": {},
   "outputs": [
    {
     "name": "stdout",
     "output_type": "stream",
     "text": [
      "+------------------+---------------------+--------------------------------+\n",
      "|       Caso       |     Estimacion      | ¿Rechazar H0 al 5% de rechazo? |\n",
      "+------------------+---------------------+--------------------------------+\n",
      "| p-valor (exacto) | 0.33566433566433584 |             False              |\n",
      "| p-valor (simul.) |       0.3342        |             False              |\n",
      "| p-Valor (normal) |  0.297621467891116  |             False              |\n",
      "+------------------+---------------------+--------------------------------+\n"
     ]
    }
   ],
   "source": [
    "muestra_13_1 = [39, 40, 38.9, 35, 32, 33, 22.8, 36]    # Primera muestra\n",
    "muestra_13_2 = [36.5, 33.1, 35.2, 30, 29, 26, 35.1]    # Segunda muestra\n",
    "# Estadistico de la muestra\n",
    "r_13 = calcular_R(muestra_13_1, muestra_13_2)\n",
    "n_13 = len(muestra_13_1)    # Tamaño de la primera muestra\n",
    "m_13 = len(muestra_13_2)    # Tamaño de la segunda muestra\n",
    "\n",
    "\n",
    "# Calculamos el p-valor exacto (usando recursion)\n",
    "p_valor_exacto_13 = p_valor_recursivo(n_13, m_13, r_13)\n",
    "\n",
    "# Calcular el p−valor aproximado en base a una aproximación normal\n",
    "p_valor_normal_13 = p_valor_normal(n_13, m_13, r_13)\n",
    "\n",
    "# Calcular el p−valor aproximado en base a una simulación\n",
    "Nsim = 10**4\n",
    "p_valor_sim_13 = estimar_p_valor_r(r_13, Nsim, n_13, m_13)\n",
    "\n",
    "data_13 = [[\"p-valor (exacto)\", p_valor_exacto_13, p_valor_exacto_13 < 0.05],\n",
    "           [\"p-valor (simul.)\", p_valor_sim_13, p_valor_sim_13 < 0.05],\n",
    "           [\"p-Valor (normal)\", p_valor_normal_13, p_valor_normal_13 < 0.05]]\n",
    "\n",
    "headers_13 = [\"Caso\", \"Estimacion\", \"¿Rechazar H0 al 5% de rechazo?\"]\n",
    "\n",
    "print(tabulate(data_13, headers=headers_13, tablefmt=\"pretty\"))\n"
   ]
  },
  {
   "cell_type": "markdown",
   "id": "791a7100-6376-4812-922e-7a727854aadf",
   "metadata": {},
   "source": [
    "### Ejercicio 14\n"
   ]
  },
  {
   "cell_type": "code",
   "execution_count": 66,
   "id": "89fd6897-957b-4cdc-9447-1594af7a6fe5",
   "metadata": {},
   "outputs": [
    {
     "name": "stdout",
     "output_type": "stream",
     "text": [
      "+------------------+----------------------+--------------------------------+\n",
      "|       Caso       |      Estimacion      | ¿Rechazar H0 al 5% de rechazo? |\n",
      "+------------------+----------------------+--------------------------------+\n",
      "| p-valor (exacto) | 0.002056766762648987 |              True              |\n",
      "| p-valor (simul.) |        0.0016        |              True              |\n",
      "| p-Valor (normal) | 0.003366491079945577 |              True              |\n",
      "+------------------+----------------------+--------------------------------+\n"
     ]
    }
   ],
   "source": [
    "muestra_14_1 = [141, 132, 154, 142, 143, 150, 134, 140]   # Primera muestra\n",
    "muestra_14_2 = [133, 138, 136, 125, 135, 130, 127, 131,   # Segunda muestra\n",
    "                116, 128]\n",
    "# Estadistico de la muestra\n",
    "r_14 = calcular_R(muestra_14_1, muestra_14_2)\n",
    "n_14 = len(muestra_14_1)    # Tamaño de la primera muestra\n",
    "m_14 = len(muestra_14_2)    # Tamaño de la segunda muestra\n",
    "\n",
    "# Calculo del p-valor exacto (recursion)\n",
    "p_valor_exacto_14 = p_valor_recursivo(n_14, m_14, r_14)\n",
    "\n",
    "# Calculo del p-valor usando una Normal\n",
    "p_valor_normal_14 = p_valor_normal(n_14, m_14, r_14)\n",
    "\n",
    "# Calcular el p−valor aproximado en base a una simulación\n",
    "Nsim = 10**4\n",
    "p_valor_sim_14 = estimar_p_valor_r(r_14, Nsim, n_14, m_14)\n",
    "\n",
    "\n",
    "data_14 = [[\"p-valor (exacto)\", p_valor_exacto_14, p_valor_exacto_14 < 0.05],\n",
    "           [\"p-valor (simul.)\", p_valor_sim_14, p_valor_sim_14 < 0.05],\n",
    "           [\"p-Valor (normal)\", p_valor_normal_14, p_valor_normal_14 < 0.05]]\n",
    "\n",
    "headers_14 = [\"Caso\", \"Estimacion\", \"¿Rechazar H0 al 5% de rechazo?\"]\n",
    "\n",
    "print(tabulate(data_14, headers=headers_14, tablefmt=\"pretty\"))\n"
   ]
  }
 ],
 "metadata": {
  "kernelspec": {
   "display_name": "Python 3.10.0 64-bit",
   "language": "python",
   "name": "python3"
  },
  "language_info": {
   "codemirror_mode": {
    "name": "ipython",
    "version": 3
   },
   "file_extension": ".py",
   "mimetype": "text/x-python",
   "name": "python",
   "nbconvert_exporter": "python",
   "pygments_lexer": "ipython3",
   "version": "3.10.0"
  },
  "vscode": {
   "interpreter": {
    "hash": "369f2c481f4da34e4445cda3fffd2e751bd1c4d706f27375911949ba6bb62e1c"
   }
  }
 },
 "nbformat": 4,
 "nbformat_minor": 5
}
