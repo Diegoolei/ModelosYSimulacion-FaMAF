{
 "cells": [
  {
   "cell_type": "markdown",
   "id": "787db578-53e0-4950-b548-f68725d9853a",
   "metadata": {},
   "source": [
    "### Imports"
   ]
  },
  {
   "cell_type": "code",
   "execution_count": 1,
   "id": "272ccfa2-4e16-4cbf-9475-03dc13533fe6",
   "metadata": {},
   "outputs": [],
   "source": [
    "from random import random\n",
    "from tabulate import tabulate\n",
    "from time import time\n",
    "from math import log, e, sqrt, exp, sin, pi"
   ]
  },
  {
   "cell_type": "markdown",
   "id": "8af314c2-9281-4f02-bcd1-b3a3f802c498",
   "metadata": {},
   "source": [
    "### Funciones generales"
   ]
  },
  {
   "cell_type": "code",
   "execution_count": 2,
   "id": "2e54651c-5af7-4b83-944f-726038c74f42",
   "metadata": {},
   "outputs": [],
   "source": [
    "def estimar_esperanza(N, generador):\n",
    "    \"\"\"\n",
    "    Estima la esperanza usando la ley fuerte de los grandes numeros\n",
    "    Args:\n",
    "        N:            Cantidad total de valores a promediar\n",
    "        generador:    Generador de la variable aleatoria de interes\n",
    "    \"\"\"\n",
    "    esperanza = 0\n",
    "    for _ in range(N):\n",
    "        esperanza += generador()\n",
    "    return esperanza / N\n",
    "\n",
    "def media_muestral(datos):\n",
    "    \"\"\"\n",
    "    Calcula la media muestral de los datos dados\n",
    "    \"\"\"\n",
    "    n = len(datos)\n",
    "    media = sum(datos) / n\n",
    "    return media\n",
    "\n",
    "def var_muestral(datos):\n",
    "    \"\"\"\n",
    "    Calcula la varianza muestral de los datos dados\n",
    "    \"\"\"\n",
    "    n = len(datos)\n",
    "    media = media_muestral(datos)\n",
    "    varianza = sum(list(map(lambda x: (x - media)**2, datos)))\n",
    "    varianza = varianza / (n - 1)\n",
    "    return varianza\n",
    "\n",
    "def generar_muestra(generador, n):\n",
    "    \"\"\"\n",
    "    Genera una muestra de tamaño n de una variable aleatoria\n",
    "    Args:\n",
    "        generador:    Generador de la variable aleatoria\n",
    "        n        :    Tamaño de la muestra\n",
    "    \"\"\"\n",
    "    datos = []\n",
    "    for _ in range(n):\n",
    "        datos.append(generador())\n",
    "    return datos\n",
    "    \n",
    "    \n",
    "def media_muestral_d(d, generador, n=100):\n",
    "    \"\"\"\n",
    "    Estima el valor esperado de la variable aleatoria simulada por generador\n",
    "    usando el estimador insesgado media muestral.\n",
    "    Args:\n",
    "        n:       : Tamaño minimo de la muestra\n",
    "        d        : Cota para la desviacion aceptable del estimador\n",
    "        generador: Generador de la variable aleatoria \n",
    "    Return:\n",
    "        media    : Estimacion del valor esperado\n",
    "        scuad    : Varianza muestral obtenida\n",
    "        i        : Tamaño de la muestra final\n",
    "    \"\"\"\n",
    "    media = generador()\n",
    "    scuad = 0\n",
    "    i = 1 \n",
    "    while i <= n or sqrt(scuad/i) > d:\n",
    "        i += 1\n",
    "        X  = generador()\n",
    "        media_previa = media\n",
    "        media = media_previa + (X - media_previa) / i\n",
    "        scuad = scuad * (1 - 1/(i-1)) + i*(media - media_previa) ** 2\n",
    "    return media, scuad, i\n",
    "\n",
    "def estimar_proporcion_d(d, generador, n=100):\n",
    "    \"\"\"\n",
    "    Estima la proporción de exito de una bernoulli, con un desvio \n",
    "    de estimador acotado\n",
    "    Args:\n",
    "        n:       : Tamaño minimo de la muestra\n",
    "        d        : Cota para la desviacion aceptable del estimador\n",
    "        generador: Generador de una bernoulli \n",
    "    Return:\n",
    "        p        : Estimacion de la proporcion\n",
    "        var_m    : Varianza muestral obtenida\n",
    "        i        : Tamaño de la muestra final\n",
    "    \"\"\"\n",
    "    p = 0\n",
    "    i = 0\n",
    "    while i <= n or sqrt(p * (1 - p) / i) > d:\n",
    "        i += 1\n",
    "        X = generador()\n",
    "        p = p + (X - p) / i\n",
    "    var_m = p * (1 - p)\n",
    "    return p, var_m, i"
   ]
  },
  {
   "cell_type": "markdown",
   "id": "7d48ce97-1b26-4c2e-990a-f73e2609b2b2",
   "metadata": {},
   "source": [
    "### Ejercicio 1"
   ]
  },
  {
   "cell_type": "code",
   "execution_count": 3,
   "id": "e7041cd9-5fc8-4d53-b973-67bd27d2926a",
   "metadata": {},
   "outputs": [],
   "source": [
    "def normal_ross(mu=0, sigma=1):\n",
    "    \"\"\"\n",
    "    Genera una variable normal estandar (por defecto) usando el algoritmo descrito \n",
    "    en el libro de Sheldon Ross, el cual esta basado en el metodo de aceptacion y \n",
    "    rechazo\n",
    "    Args:\n",
    "        mu   : Esperanza de la variable normal\n",
    "        sigma: Desvio estandar de la variable normal \n",
    "    \"\"\"\n",
    "    while True:\n",
    "        Y1 = -log(random()) # Exponencial de parametro 1\n",
    "        Y2 = -log(random()) # Exponencial de parametro 1\n",
    "        if Y2 >= (Y1 - 1) ** 2 / 2:\n",
    "            # En este punto Y1 es una variable aleatoria con distribucion |Z|\n",
    "            # La siguiente comparacion es el metodo para generar Z con composicion\n",
    "            # a partir del generador de |Z|\n",
    "            if random() < 0.5:\n",
    "                return Y1 * sigma + mu\n",
    "            else:\n",
    "                return -Y1 * sigma + mu"
   ]
  },
  {
   "cell_type": "code",
   "execution_count": 4,
   "id": "1b199c44-2dc7-43ef-a176-0c51b0baf9b0",
   "metadata": {},
   "outputs": [
    {
     "name": "stdout",
     "output_type": "stream",
     "text": [
      "+-----------------+-----------------+----------------+-------------------+\n",
      "| Tamaño esperado | Tamaño obtenido | Media muestral | Varianza muestral |\n",
      "+-----------------+-----------------+----------------+-------------------+\n",
      "|       101       |       97        |     0.0376     |      0.9684       |\n",
      "+-----------------+-----------------+----------------+-------------------+\n"
     ]
    }
   ],
   "source": [
    "# Tamaño esperado de la muestra \n",
    "# sigma / 0.1 < sqrt(n) <=> (sigma*10)**2 < n pero sabemos que \n",
    "# el desvio de una normal estandar es 1 por lo tanto n = 101\n",
    "tamaño_muestra_esperado  = 101\n",
    "\n",
    "# Simulamos las condiciones pedidas en el enunciado\n",
    "n = 30\n",
    "d = 0.1\n",
    "\n",
    "simulacion_1 = media_muestral_d(d, normal_ross, n)\n",
    "tamaño_muestra_obtenido  = simulacion_1[2]\n",
    "media_muestral_1    = round(simulacion_1[0], 4)\n",
    "varianza_muestral_1 = round(simulacion_1[1], 4)\n",
    "\n",
    "datos_1 = [[tamaño_muestra_esperado, tamaño_muestra_obtenido,\n",
    "            media_muestral_1, varianza_muestral_1]]\n",
    "\n",
    "headers_1 = [\"Tamaño esperado\", \"Tamaño obtenido\", \"Media muestral\", \n",
    "             \"Varianza muestral\"]\n",
    "\n",
    "print(tabulate(datos_1, headers=headers_1, tablefmt=\"pretty\"))"
   ]
  },
  {
   "cell_type": "markdown",
   "id": "ca308073-daf0-47cc-ae9a-c6dfd7f0d34b",
   "metadata": {},
   "source": [
    "### Ejercicio 2"
   ]
  },
  {
   "cell_type": "code",
   "execution_count": 7,
   "id": "92ca74fc-38a0-458e-83d7-1cc969833c31",
   "metadata": {},
   "outputs": [],
   "source": [
    "def generar_i():\n",
    "    \"\"\"\n",
    "    Devuelve un valor aleatorio de la funcion g determinada por el metodo de\n",
    "    Monte Carlo para el inciso i\n",
    "    \"\"\"\n",
    "    U = random()\n",
    "    return exp(U) / sqrt(2*U)\n",
    "\n",
    "def generar_ii():\n",
    "    \"\"\"\n",
    "    Devuelve un valor aleatorio de la funcion g determinada por el metodo de\n",
    "    Monte Carlo para el inciso ii\n",
    "    \"\"\"\n",
    "    U = random()\n",
    "    return 1/U**2 * (1/U - 1)**2 * exp(-(1/U - 1)**2)"
   ]
  },
  {
   "cell_type": "code",
   "execution_count": 8,
   "id": "f5bdf68c-0734-42dc-b1b2-c9debdf96910",
   "metadata": {},
   "outputs": [
    {
     "name": "stdout",
     "output_type": "stream",
     "text": [
      "+--------+--------------------+-----------------+\n",
      "| Inciso |     Estimacion     | Datos generados |\n",
      "+--------+--------------------+-----------------+\n",
      "|   i    | 2.085988307858936  |      44145      |\n",
      "|   ii   | 0.8868807748078458 |      3185       |\n",
      "+--------+--------------------+-----------------+\n"
     ]
    }
   ],
   "source": [
    "# Estimacion de las integrales por Monte Carlo\n",
    "d = 0.01\n",
    "estimacion_i  = media_muestral_d(d, generar_i)\n",
    "estimacion_ii = media_muestral_d(d, generar_ii)\n",
    "\n",
    "datos_2   = [[\"i\", estimacion_i[0], estimacion_i[2]],\n",
    "             [\"ii\", estimacion_ii[0]*2, estimacion_ii[2]]\n",
    "            ]\n",
    "headers_2 = [\"Inciso\", \"Estimacion\", \"Datos generados\"]\n",
    "\n",
    "print(tabulate(datos_2, headers=headers_2, tablefmt=\"pretty\"))"
   ]
  },
  {
   "cell_type": "markdown",
   "id": "d0781a03-4ba1-4613-a018-84c39f32fece",
   "metadata": {},
   "source": [
    "### Ejercicio 3"
   ]
  },
  {
   "cell_type": "code",
   "execution_count": 5,
   "id": "944757b7-0942-421a-8520-070031affa7e",
   "metadata": {},
   "outputs": [],
   "source": [
    "def integral_i():\n",
    "    \"\"\"\n",
    "    Una funcion que sirve para estimar la integral del inciso i usando el\n",
    "    metodo de Monte Carlo\n",
    "    \"\"\"\n",
    "    U = random()\n",
    "    return sin((U+1)*pi) / (U+1)\n",
    "\n",
    "def integral_ii():\n",
    "    \"\"\"\n",
    "    Una funcion que sirve para estimar la integral del inciso ii usando el\n",
    "    metodo de Monte Carlo\n",
    "    \"\"\"\n",
    "    U = random()\n",
    "    return 1/U**2 * (3 / (3 + (1/U - 1)**4))"
   ]
  },
  {
   "cell_type": "code",
   "execution_count": 6,
   "id": "dac18336-fd53-4390-b4d4-a2a16a61469f",
   "metadata": {
    "tags": []
   },
   "outputs": [
    {
     "name": "stdout",
     "output_type": "stream",
     "text": [
      "\n",
      "Inciso i\n",
      "+--------------------+--------------------+----------------+\n",
      "| N° de simulaciones |     Intervalo      | Valor estimado |\n",
      "+--------------------+--------------------+----------------+\n",
      "|        1000        | [-0.4456, -0.4196] |    -0.4326     |\n",
      "|        5000        | [-0.4456, -0.434]  |    -0.4398     |\n",
      "|        7000        | [-0.4388, -0.429]  |    -0.4339     |\n",
      "|       170114       | [-0.4351, -0.4331] |    -0.4341     |\n",
      "+--------------------+--------------------+----------------+\n",
      "\n",
      "Inciso ii\n",
      "+--------------------+------------------+----------------+\n",
      "| N° de simulaciones |    Intervalo     | Valor estimado |\n",
      "+--------------------+------------------+----------------+\n",
      "|        1000        | [1.3746, 1.4952] |     1.4349     |\n",
      "|        5000        | [1.4421, 1.4966] |     1.4693     |\n",
      "|        7000        | [1.4343, 1.4799] |     1.4571     |\n",
      "|      3660624       | [1.4606, 1.4626] |     1.4616     |\n",
      "+--------------------+------------------+----------------+\n"
     ]
    }
   ],
   "source": [
    "# Parametros para estimar las integrales con un intervalo de confianza del 95%\n",
    "# con el SEMIANCHO no mayor a 0.001 del intervalo\n",
    "z_alpha_2 = 1.96\n",
    "d = 0.001 / z_alpha_2  \n",
    "\n",
    "# Estimamos las integrales simulando hasta satisfacer las condiciones dadas en \n",
    "# el enunciado (un intervalo no mayor al 0.001 con una confianza del 95%)\n",
    "b_3_i  = media_muestral_d(d, integral_i)\n",
    "b_3_ii = media_muestral_d(d, integral_ii)\n",
    "\n",
    "\n",
    "# Generamos las muestras de los distintos tamaños pedidos en la tabla\n",
    "numero_sim = [1000, 5000, 7000]\n",
    "sim_3_i    = list(map(lambda n: generar_muestra(integral_i, n), numero_sim))  \n",
    "sim_3_ii   = list(map(lambda n: generar_muestra(integral_ii, n), numero_sim))\n",
    "\n",
    "# Calculamos los estimadores puntuales en las muestras obtenidas\n",
    "sim_3_i  = list(map(lambda datos: [media_muestral(datos), \n",
    "                                   var_muestral(datos), len(datos)],\n",
    "                    sim_3_i))\n",
    "\n",
    "sim_3_ii = list(map(lambda datos: [media_muestral(datos),\n",
    "                                   var_muestral(datos), len(datos)], \n",
    "                    sim_3_ii))\n",
    "\n",
    "# Agregamos las simulaciones anteriores a las listas correspondientes\n",
    "sim_3_i.append(b_3_i)\n",
    "sim_3_ii.append(b_3_ii)\n",
    "\n",
    "# Funcion para calcular el intervalo obtenido en las simulaciones \n",
    "# a partir de los resultados en la simulacion\n",
    "intervalo = lambda media, var, n:  [round(media - sqrt(var/n)* z_alpha_2, 4), \n",
    "                                    round(media + sqrt(var/n)* z_alpha_2, 4)]\n",
    "\n",
    "# Formateo de datos\n",
    "datos_3_i  = list(map(lambda x: [x[2], intervalo(x[0], x[1], x[2]), round(x[0], 4)], sim_3_i))\n",
    "datos_3_ii = list(map(lambda x: [x[2], intervalo(x[0], x[1], x[2]), round(x[0], 4)], sim_3_ii))\n",
    "headers_3  = [\"N° de simulaciones\", \"Intervalo\", \"Valor estimado\"]\n",
    "\n",
    "print(\"\\nInciso i\")\n",
    "print(tabulate(datos_3_i, headers=headers_3, tablefmt=\"pretty\"))\n",
    "print(\"\\nInciso ii\")\n",
    "print(tabulate(datos_3_ii, headers=headers_3, tablefmt=\"pretty\"))"
   ]
  },
  {
   "cell_type": "markdown",
   "id": "4b549157-14c0-4514-9bb5-53f967ea0401",
   "metadata": {},
   "source": [
    "### Ejercicio 4"
   ]
  },
  {
   "cell_type": "code",
   "execution_count": 11,
   "id": "eb8daf8a-346d-444e-8b1e-74360972939e",
   "metadata": {},
   "outputs": [],
   "source": [
    "def generar_N():\n",
    "    \"\"\"\n",
    "    Genera la variable aleatoria N del ejercicio 4\n",
    "    \"\"\"\n",
    "    n = 0\n",
    "    suma = 0\n",
    "    while suma < 1:\n",
    "        n += 1\n",
    "        suma += random()\n",
    "    return n\n",
    "\n",
    "def estimador_e(n):\n",
    "    \"\"\"\n",
    "    Genera valores aleatorios del estimador de e (media muestral)\n",
    "    Args:\n",
    "        n: Tamaño de la muestra\n",
    "    \"\"\"\n",
    "    muestra      = generar_muestra(generar_N, n)\n",
    "    estimacion_e = media_muestral(muestra)\n",
    "    return estimacion_e"
   ]
  },
  {
   "cell_type": "code",
   "execution_count": 12,
   "id": "4bb8b8db-21b5-4f59-83f9-e2adbc01e92d",
   "metadata": {},
   "outputs": [
    {
     "name": "stdout",
     "output_type": "stream",
     "text": [
      "+-------------------+--------------------+-----------------------+\n",
      "|   Valor real e    |  Estimacion de e   |  Varianza estimador   |\n",
      "+-------------------+--------------------+-----------------------+\n",
      "| 2.718281828459045 | 2.6688311688311654 | 0.0007131215175175175 |\n",
      "+-------------------+--------------------+-----------------------+\n"
     ]
    }
   ],
   "source": [
    "# Inciso c\n",
    "# Calculo la varianza muestral del estimador e\n",
    "n = 1000\n",
    "muestra_estimador  = generar_muestra(lambda: estimador_e(n), n)\n",
    "varianza_estimador = var_muestral(muestra_estimador) \n",
    "\n",
    "# Estimamos e por intervalos de confianza al 95% con un ancho de 0.1\n",
    "z_alpha_2 = 1.96\n",
    "L = 0.1\n",
    "d = 0.1 / (2 * z_alpha_2)\n",
    "estimacion_e = media_muestral_d(d, generar_N)[0]\n",
    "\n",
    "\n",
    "datos_4   = [[e, estimacion_e, varianza_estimador]]\n",
    "headers_4 = [\"Valor real e\",\"Estimacion de e\", \"Varianza estimador\"]\n",
    "print(tabulate(datos_4, headers=headers_4, tablefmt=\"pretty\"))"
   ]
  },
  {
   "cell_type": "markdown",
   "id": "86c945a5-27f2-4d9c-b8df-cea58cc9d3e5",
   "metadata": {},
   "source": [
    "### Ejercicio 5"
   ]
  },
  {
   "cell_type": "code",
   "execution_count": 13,
   "id": "7188a44c-ceac-4b0f-9995-c19be58cf0c1",
   "metadata": {},
   "outputs": [],
   "source": [
    "def generar_M():\n",
    "    \"\"\"\n",
    "    Genera la variable aleatoria M dada en el ejercicio 5\n",
    "    \"\"\"\n",
    "    numero_actual = random()\n",
    "    n = 2\n",
    "    while True:\n",
    "        numero_proximo = random()\n",
    "        if numero_actual < numero_proximo:\n",
    "            numero_actual = numero_proximo\n",
    "            n+=1\n",
    "        else:\n",
    "            return n\n",
    "        \n",
    "def estimador_e(n):\n",
    "    \"\"\"\n",
    "    Genera valores aleatorios del estimador de e (media muestral)\n",
    "    Args:\n",
    "        n: Tamaño de la muestra\n",
    "    \"\"\"\n",
    "    muestra      = generar_muestra(generar_M, n)\n",
    "    estimacion_e = media_muestral(muestra)\n",
    "    return estimacion_e"
   ]
  },
  {
   "cell_type": "code",
   "execution_count": 14,
   "id": "5625b3de-567f-4235-bb52-fa1fbcbd9b2d",
   "metadata": {},
   "outputs": [
    {
     "name": "stdout",
     "output_type": "stream",
     "text": [
      "+---------------------+------------------------+--------------------------+\n",
      "| Valor por estimador | Varianza del estimador | Estimacion por intervalo |\n",
      "+---------------------+------------------------+--------------------------+\n",
      "|        2.681        | 0.0007396332332332345  |    2.7176945166142317    |\n",
      "+---------------------+------------------------+--------------------------+\n"
     ]
    }
   ],
   "source": [
    "# Estimamos el valor de e con 1000 simulaciones\n",
    "n = 1000\n",
    "\n",
    "# Inciso c\n",
    "muestra_m    = generar_muestra(generar_M, n)\n",
    "estimacion_e = media_muestral(muestra_m)\n",
    "\n",
    "# Inciso d \n",
    "# Varianza del estimador de e (media muestral de M)\n",
    "muestra_estimador      = generar_muestra(lambda: estimador_e(n), n)\n",
    "var_muestral_estimador = var_muestral(muestra_estimador) \n",
    "\n",
    "# Estimacion de e con intervalos de confianza del 95% y largo del 0.01\n",
    "z_alpha_2 = 1.96\n",
    "L = 0.01\n",
    "d = L / (2 * z_alpha_2)\n",
    "estimacion_e_confianza = media_muestral_d(d, generar_M)[0]\n",
    "\n",
    "data_5    = [[estimacion_e, var_muestral_estimador, estimacion_e_confianza]]\n",
    "headers_5 = [\"Valor por estimador\", \"Varianza del estimador\", \n",
    "             \"Estimacion por intervalo\"]\n",
    "\n",
    "print(tabulate(data_5, headers=headers_5, tablefmt=\"pretty\"))"
   ]
  },
  {
   "cell_type": "markdown",
   "id": "84664dc7-19f3-482b-b40d-15fe0e6419a8",
   "metadata": {},
   "source": [
    "### Ejercicio 6"
   ]
  },
  {
   "cell_type": "code",
   "execution_count": 15,
   "id": "be894f1b-430b-4e0d-9c2f-3f26f122a985",
   "metadata": {},
   "outputs": [],
   "source": [
    "def cae_en_circulo():\n",
    "    \"\"\"\n",
    "    Genera la variable aleatoria bernoulli que modela el hecho de que un punto\n",
    "    aleatorio del cuadrado [-1,1]x[-1,1] caiga en el circulo unitario\n",
    "    \"\"\"\n",
    "    X = random()*2 - 1    # U(-1, 1)  \n",
    "    Y = random()*2 - 1    # U(-1, 1)\n",
    "    return int(X**2 + Y**2 <= 1)"
   ]
  },
  {
   "cell_type": "code",
   "execution_count": 16,
   "id": "a3c5c6cc-0be2-49db-a503-0626189bdd36",
   "metadata": {},
   "outputs": [
    {
     "name": "stdout",
     "output_type": "stream",
     "text": [
      "+-------------------+-------------------+----------------------------+\n",
      "|    Valor de pi    | Estimacion de pi  | Tamaño final de la muestra |\n",
      "+-------------------+-------------------+----------------------------+\n",
      "| 3.141592653589793 | 3.129147767963719 |            4189            |\n",
      "+-------------------+-------------------+----------------------------+\n"
     ]
    }
   ],
   "source": [
    "# Estimamos pi por intervalo de confianza al 95% con una cota de 0.1\n",
    "L = 0.1\n",
    "z_alpha_2 = 1.96         # Valor de la normal para la confianza al 95%\n",
    "d = L / (8 * z_alpha_2)  # Por justificacion analitica\n",
    "\n",
    "simular_pi = estimar_proporcion_d(d, cae_en_circulo) \n",
    "\n",
    "estimacion_pi  = simular_pi[0] * 4  # Porque la media muestral de cae_en_circulo estima pi/4\n",
    "tamaño_muestra = simular_pi[2]\n",
    "\n",
    "data_6    = [[pi, estimacion_pi, tamaño_muestra]]\n",
    "headers_6 = [\"Valor de pi\", \"Estimacion de pi\", \"Tamaño final de la muestra\"]\n",
    "\n",
    "print(tabulate(data_6, headers=headers_6, tablefmt=\"pretty\"))"
   ]
  },
  {
   "cell_type": "markdown",
   "id": "af6efe54-8d8c-4629-a59b-d6908cd8d6bf",
   "metadata": {},
   "source": [
    "### Funciones generales para el metodo bootstrap"
   ]
  },
  {
   "cell_type": "code",
   "execution_count": 17,
   "id": "ec70625e-ae84-4e34-a189-bc2ad4c8202c",
   "metadata": {},
   "outputs": [],
   "source": [
    "def generar_empirica(datos):\n",
    "    \"\"\"\n",
    "    Genera la variable aleatoria con distribucion empirica para los\n",
    "    datos dados\n",
    "    \"\"\"\n",
    "    n = len(datos)\n",
    "    U = int(random() * n)\n",
    "    return datos[U]\n",
    "\n",
    "def generar_muestra_bootstrap(datos):\n",
    "    \"\"\"\n",
    "    Genera una muestra bootstrap a partir de la distribucion empirica\n",
    "    de los datos dados\n",
    "    \"\"\"\n",
    "    n = len(datos)        # Tamaño de la muestra bootstrap apropiado\n",
    "    muestra = generar_muestra(lambda: generar_empirica(datos), n)\n",
    "    return muestra\n",
    "\n",
    "def esperanza_empirica(datos):\n",
    "    \"\"\"\n",
    "    Calcula la esperanza empirica de los datos dados\n",
    "    \"\"\"\n",
    "    esperanza = sum(datos) / len(datos)\n",
    "    return esperanza\n",
    "\n",
    "def varianza_empirica(datos):\n",
    "    \"\"\"\n",
    "    Calcula la varianza empirica de los datos datos\n",
    "    \"\"\"\n",
    "    mu = esperanza_empirica(datos) # Suponemos que no conocemos el valor esperado real\n",
    "    varianza_empirica = sum(list(map(lambda x: (x-mu)**2, datos))) / len(datos)\n",
    "    return varianza_empirica\n",
    "\n",
    "\n",
    "def var_muestral_mu(datos, mu):\n",
    "    \"\"\"\n",
    "    Calcula la varianza muestral sin estimar la esperanza de los datos\n",
    "    Args:\n",
    "        mu: Valor esperado de los datos\n",
    "    \"\"\"\n",
    "    var = sum(list(map(lambda x: (x-mu)**2, datos))) / len(datos)\n",
    "    return var"
   ]
  },
  {
   "cell_type": "markdown",
   "id": "e57fa524-d665-49e6-a68e-5626c775d9b7",
   "metadata": {},
   "source": [
    "### Ejercicio 7"
   ]
  },
  {
   "cell_type": "code",
   "execution_count": 18,
   "id": "2f85a731-6002-4bc5-9862-36c942a0c9ad",
   "metadata": {},
   "outputs": [],
   "source": [
    "# Datos dados\n",
    "datos_obtenidos_7 = [56, 101, 78, 67, 93, 87,64, 72, 80, 69]\n",
    "\n",
    "# Esperanza por distribucion empirica \n",
    "esperanza_empirica_7 = esperanza_empirica(datos_obtenidos_7)\n",
    "\n",
    "# Generamos la bernoulli que modela el hecho de que la replicacion bootstrap\n",
    "# pertenezca al intervalo (-5, 5) dado en el ejercicio\n",
    "def bernoulli_7():\n",
    "    \"\"\"\n",
    "    Genera la variable bernoulli con probabilidad de exito\n",
    "    igual a p(-5 < replicacion < 5)\n",
    "    \"\"\"\n",
    "    estimador = lambda x: media_muestral(x) - esperanza_empirica_7\n",
    "    muestra_bootstrap     = generar_muestra_bootstrap(datos_obtenidos_7)\n",
    "    replicacion_bootstrap = estimador(muestra_bootstrap)\n",
    "    return -5 < replicacion_bootstrap < 5 "
   ]
  },
  {
   "cell_type": "code",
   "execution_count": 19,
   "id": "1e74fbda-ad61-41c2-8b50-560dd7c7e233",
   "metadata": {},
   "outputs": [
    {
     "name": "stdout",
     "output_type": "stream",
     "text": [
      "p(-5 < X̄-μ < 5) ~ 0.76047\n"
     ]
    }
   ],
   "source": [
    "# Estimamos la probabilidad p con N muestras bootstraps\n",
    "N = 100000\n",
    "p_estimado = estimar_esperanza(N, bernoulli_7)\n",
    "print(\"p(-5 < X̄-μ < 5) ~\", p_estimado)"
   ]
  },
  {
   "cell_type": "markdown",
   "id": "6ffd964f-e1c6-4952-ab30-ca291bdf6e12",
   "metadata": {},
   "source": [
    "### Ejercicio 9"
   ]
  },
  {
   "cell_type": "code",
   "execution_count": 20,
   "id": "46b519f4-d8df-4013-840e-392c5b0759e7",
   "metadata": {},
   "outputs": [],
   "source": [
    "datos_obtenidos_9 = [3.0592, 2.3304, 2.8548, 1.2546, 2.1628, \n",
    "                     4.9828, 5.4259, 0.9078, 4.5811, 3.2749]\n",
    "\n",
    "# Esperanza empirica obtenida de los datos dados\n",
    "esperanza_empirica_9 = esperanza_empirica(datos_obtenidos_9)\n",
    "\n",
    "# Generamos la bernoulli que modela el hecho de que la replicacion bootstrap\n",
    "# de nuestro estimador T sea mayor a a = 2.5\n",
    "def bernoulli_9(a):\n",
    "    \"\"\"\n",
    "    Genera la variable bernoulli con probabilidad de exito\n",
    "    igual a p(replicacion > a)\n",
    "    \"\"\"\n",
    "    mu = esperanza_empirica_9\n",
    "    T  = lambda x: (media_muestral(x) - mu) / sqrt(var_muestral_mu(x, mu)/len(x))\n",
    "    muestra_b = generar_muestra_bootstrap(datos_obtenidos_9)\n",
    "    replicacion = T(muestra_b)\n",
    "    return int(replicacion > a) "
   ]
  },
  {
   "cell_type": "code",
   "execution_count": 21,
   "id": "fe299bd7-c331-460f-b75d-345fbb08694c",
   "metadata": {},
   "outputs": [
    {
     "name": "stdout",
     "output_type": "stream",
     "text": [
      "+--------------------+-------------------+------------+\n",
      "|   Media muestral   | Varianza muestral | P(T > 2.5) |\n",
      "+--------------------+-------------------+------------+\n",
      "| 3.0834300000000003 |    2.324433989    |  0.00158   |\n",
      "+--------------------+-------------------+------------+\n"
     ]
    }
   ],
   "source": [
    "# inciso b\n",
    "media_muestral_9 = media_muestral(datos_obtenidos_9)\n",
    "var_muestral_9   = var_muestral(datos_obtenidos_9)\n",
    "\n",
    "# inciso c\n",
    "a = 2.50\n",
    "N = 100000    # Cantidad de simulaciones\n",
    "p_estimado = round(estimar_esperanza(N, lambda: bernoulli_9(a)), 5)\n",
    "\n",
    "datos_9   = [[media_muestral_9, var_muestral_9, p_estimado]]\n",
    "headers_9 = [\"Media muestral\", \"Varianza muestral\", \"P(T > 2.5)\"]\n",
    "print(tabulate(datos_9, headers=headers_9, tablefmt=\"pretty\"))"
   ]
  },
  {
   "cell_type": "markdown",
   "id": "8bc3fa5e-35ff-41db-857e-4516e1f16a4d",
   "metadata": {},
   "source": [
    "### Ejercicio 10"
   ]
  },
  {
   "cell_type": "code",
   "execution_count": 22,
   "id": "106ecb02-98ad-4c81-af60-44a0344a5723",
   "metadata": {},
   "outputs": [],
   "source": [
    "datos_obtenidos_10 = [7.5, 12.3, 8.8, 7.9, 9.3, 10.4, 10.9, 9.6, 9.1, 11.2]\n",
    "\n",
    "# Esperanza empirica obtenida de los datos dados\n",
    "esperanza_empirica_10 = esperanza_empirica(datos_obtenidos_10)\n",
    "\n",
    "def replicacion_bootstrap_10():\n",
    "    \"\"\"\n",
    "    Genera una muestra bootstrap y luego le calcula su replicacion para estimar\n",
    "    el ECM\n",
    "    \"\"\"\n",
    "    muestra_b   = generar_muestra_bootstrap(datos_obtenidos_10)\n",
    "    replicacion = (media_muestral(muestra_b) - esperanza_empirica_10) ** 2\n",
    "    return replicacion\n",
    "\n",
    "def bernoulli_10():\n",
    "    \"\"\"\n",
    "    Genera la bernoulli con probabilidad de exito \n",
    "    igual a la p(8 <= replicacion <= 10)\n",
    "    \"\"\"\n",
    "    muestra_b = generar_muestra_bootstrap(datos_obtenidos_10)\n",
    "    estimador = media_muestral\n",
    "    replicacion = estimador(muestra_b)\n",
    "    return int(8 <= replicacion <= 10)"
   ]
  },
  {
   "cell_type": "code",
   "execution_count": 23,
   "id": "54e631e5-0542-48b7-ad93-e6cd4d2f886b",
   "metadata": {},
   "outputs": [
    {
     "name": "stdout",
     "output_type": "stream",
     "text": [
      "+--------------------+--------------+----------------------+\n",
      "| Esperanza empirica | ECM estimado | P(8<=X̄<=10) estimada |\n",
      "+--------------------+--------------+----------------------+\n",
      "|        9.7         |   0.20356    |        0.7516        |\n",
      "+--------------------+--------------+----------------------+\n"
     ]
    }
   ],
   "source": [
    "# Estimamos ECM(X̄, μ)\n",
    "N = 100000\n",
    "ECM_10 = round(estimar_esperanza(N, replicacion_bootstrap_10), 5)\n",
    "\n",
    "# Estimamos la probabilidad de que X̄ este en el intervalo [8, 10]\n",
    "p_estimado_10 = estimar_esperanza(N, bernoulli_10)\n",
    "\n",
    "datos_10   = [[esperanza_empirica_10, ECM_10, p_estimado_10]]\n",
    "headers_10 = [\"Esperanza empirica\", \"ECM estimado\", \"P(8<=X̄<=10) estimada\"]\n",
    "\n",
    "print(tabulate(datos_10, headers=headers_10, tablefmt=\"pretty\"))"
   ]
  },
  {
   "cell_type": "markdown",
   "id": "5604a780-3e1a-425b-893c-1df612253b91",
   "metadata": {},
   "source": [
    "### Ejercicio 11"
   ]
  },
  {
   "cell_type": "code",
   "execution_count": 24,
   "id": "3476b849-cbb6-4001-ae2b-b0286a1bdfa3",
   "metadata": {},
   "outputs": [],
   "source": [
    "datos_obtenidos_11 = [144.98, 145.04, 145.02, 145.04, 145.03, \n",
    "                      145.03, 145.04, 144.97, 145.05, 145.03, \n",
    "                      145.02, 145,    145.02]\n",
    "\n",
    "# Estimamos los parametros necesarios para nuestro estimador\n",
    "e_empirica_11 = esperanza_empirica(datos_obtenidos_11) \n",
    "v_empirica_11 = varianza_empirica(datos_obtenidos_11)\n",
    "\n",
    "# Generamos la bernoulli que modela el hecho de que la replicacion bootstrap\n",
    "# de nuestro estimador |s² - σ²| sea mayor a 0.02\n",
    "def bernoulli_11():\n",
    "    \"\"\"\n",
    "    Genera una variable aleatoria con probabilidad de exito\n",
    "    igual a p(|s² - σ²| > 0.02)\n",
    "    \"\"\"\n",
    "    sigma2 = v_empirica_11     # Estimacion de la varianza\n",
    "    mu     = e_empirica_11     # Estimacion de la esperanza\n",
    "    \n",
    "    muestra_b   = generar_muestra_bootstrap(datos_obtenidos_11) \n",
    "    estimador   = lambda x: abs(var_muestral_mu(x, mu) - sigma2)\n",
    "    replicacion = estimador(muestra_b)\n",
    "    \n",
    "    return int(replicacion > 0.02)"
   ]
  },
  {
   "cell_type": "code",
   "execution_count": 25,
   "id": "40bca081-55e7-4906-b433-461d324ee1f8",
   "metadata": {},
   "outputs": [
    {
     "name": "stdout",
     "output_type": "stream",
     "text": [
      "+--------------------+-----------------------+------------------------------+\n",
      "| Esperanza empirica |   Varianza empirica   | P(|s² - σ²| > 0.02) estimado |\n",
      "+--------------------+-----------------------+------------------------------+\n",
      "| 145.02076923076922 | 0.0005301775147929542 |             0.0              |\n",
      "+--------------------+-----------------------+------------------------------+\n"
     ]
    }
   ],
   "source": [
    "# Estimamos la probabilidad p = p(|s² - σ²| > 0.02) usando Monte Carlo\n",
    "N = 10000  # Cantidad de muestras bootstrap\n",
    "p_estimado_11 = estimar_esperanza(N, bernoulli_11)\n",
    "\n",
    "datos_11   = [[e_empirica_11, v_empirica_11, p_estimado_11]]\n",
    "headers_11 = [\"Esperanza empirica\", \"Varianza empirica\", \"P(|s² - σ²| > 0.02) estimado\"]\n",
    "\n",
    "print(tabulate(datos_11, headers=headers_11, tablefmt=\"pretty\"))"
   ]
  },
  {
   "cell_type": "code",
   "execution_count": 40,
   "id": "583deaae-da7b-467e-8739-ede15122e209",
   "metadata": {},
   "outputs": [],
   "source": [
    "def generar_exp(Lambda):\n",
    "    \"\"\"\n",
    "    Genera una variable aleatoria exponencial usando el metodo de la transformada\n",
    "    inversa\n",
    "    Args:\n",
    "        Lambda: Parametro de la variable aleatoria exponencial\n",
    "    \"\"\"\n",
    "    U = random()\n",
    "    return -log(U) / Lambda\n",
    "\n",
    "\n",
    "def eventos_poisson(Lambda, T):\n",
    "    \"\"\"\n",
    "    Genera la variable aleatoria N(T) ligada a un proceso de poisson homogeneo\n",
    "    de parametro Lambda usando el hecho de que el tiempo entre arribos es una \n",
    "    variable exponencial de parametro Lambda\n",
    "    Args:\n",
    "        Lambda: Intensidad del proceso de poisson\n",
    "        T     : Limite del intervalo [0, T]\n",
    "    Return:\n",
    "        N_T    : Cantidad de eventos ocurridos en el intervalo [0, T] \n",
    "        eventos: Momento en que ocurrio cada evento \n",
    "    \"\"\"\n",
    "    t, N_T, eventos = 0, 0, []\n",
    "    while t < T:\n",
    "        U  = 1 - random()\n",
    "        t += - log(U) / Lambda # Exponencial de parametro lambda\n",
    "        if t <= T:\n",
    "            N_T += 1\n",
    "            eventos.append(t)\n",
    "    return N_T, eventos\n",
    "\n",
    "\n",
    "def simular_servidores(tu, Lambda, t):\n",
    "    \"\"\"\n",
    "    Simula el tiempo promedio de uso del servicio de los clientes efectivos \n",
    "    en un dia \n",
    "    Args:\n",
    "        tu                     : Tiempo medio de uso del servicio\n",
    "        Lambda                 : Frecuencia con la que llegan los clientes\n",
    "        t                      : Cota del intervalo de tiempo [0, t]\n",
    "    Return:\n",
    "        t_uso_servicio         : Tiempo promedio de uso promedio de los clientes efectivos\n",
    "        clientes_atendidos     : Cantidad de clientes efectivos\n",
    "        cantidad_clientes_p    : Cantidad de clientes potenciales\n",
    "    \"\"\"\n",
    "    simular_servicio     = lambda : generar_exp(tu)        # Simulacion del tiempo de uso del servicio\n",
    "    servidores_en_uso    = []                              # [] indica todos los servidores libres\n",
    "    potenciales_clientes = eventos_poisson(Lambda, t)[1]   # Momentos en que llegan los clientes\n",
    "    cantidad_clientes_p  = len(potenciales_clientes)  \n",
    "    t_uso_servicio       = 0                               # Tiempo de uso total del servicio\n",
    "    clientes_atendidos   = 0\n",
    "    # Atendemos los clientes\n",
    "    while potenciales_clientes != []:\n",
    "        momento_llegada = potenciales_clientes[0]\n",
    "        # Actualizo el tiempo en los servidores\n",
    "        servidores_en_uso = list(filter(lambda x: x > momento_llegada, servidores_en_uso))\n",
    "        # Veo si hay un servidor disponible\n",
    "        if len(servidores_en_uso) <= 3:\n",
    "            tiempo_servicio = simular_servicio()\n",
    "            momento_salida  = tiempo_servicio + momento_llegada\n",
    "            servidores_en_uso.append(momento_salida)\n",
    "            t_uso_servicio += tiempo_servicio\n",
    "            clientes_atendidos += 1\n",
    "            \n",
    "        # Desencolamos al cliente\n",
    "        potenciales_clientes = potenciales_clientes[1:]\n",
    "    t_uso_servicio = t_uso_servicio / cantidad_clientes_p\n",
    "    return t_uso_servicio, clientes_atendidos, cantidad_clientes_p\n",
    "\n",
    "def replicacion_bootstrap_12():\n",
    "    \"\"\"\n",
    "    Genera una muestra bootstrap y luego le calcula su replicacion para estimar\n",
    "    el ECM \n",
    "    \"\"\"\n",
    "    muestra_b   = generar_muestra_bootstrap(datos_obtenidos_12)\n",
    "    replicacion = (media_muestral(muestra_b) - e_empirica_12) ** 2\n",
    "    return replicacion"
   ]
  },
  {
   "cell_type": "markdown",
   "id": "57d413fa-742e-4cc7-a13a-cc51de5e27f1",
   "metadata": {},
   "source": [
    "#### Aplicacion del metodo bootstrap"
   ]
  },
  {
   "cell_type": "code",
   "execution_count": 50,
   "id": "45bb953e-11ae-44a7-ad83-6a3ef6f247fc",
   "metadata": {},
   "outputs": [
    {
     "name": "stdout",
     "output_type": "stream",
     "text": [
      "+----------------------------+----------------------------+\n",
      "| Horas promedio de servicio | ECM estimada del estimador |\n",
      "+----------------------------+----------------------------+\n",
      "|    0.23884282661213888     |   0.00010129315028953236   |\n",
      "+----------------------------+----------------------------+\n"
     ]
    }
   ],
   "source": [
    "# Parametros\n",
    "t_uso  = 4.2\n",
    "Lambda = 4\n",
    "t      = 8\n",
    "\n",
    "# Primero obtenemos 10 datos de la simulacion\n",
    "datos_obtenidos_12 = generar_muestra(lambda: simular_servidores(t_uso, Lambda, t)[0], 15)\n",
    "\n",
    "# Calculo la esperanza empirica para estimar el ECM del estimador\n",
    "e_empirica_12 = esperanza_empirica(datos_obtenidos_12)\n",
    "\n",
    "# Estimamos ECM con N muestras bootstrap\n",
    "N = 10000\n",
    "ECM_12 = estimar_esperanza(N, replicacion_bootstrap_12)\n",
    "\n",
    "datos_12 = [[e_empirica_12, ECM_12]]\n",
    "headers_12 = [\"Horas promedio de servicio\", \"ECM estimada del estimador\"]\n",
    "\n",
    "print(tabulate(datos_12, headers=headers_12, tablefmt=\"pretty\"))"
   ]
  }
 ],
 "metadata": {
  "kernelspec": {
   "display_name": "Python 3.10.0 64-bit",
   "language": "python",
   "name": "python3"
  },
  "language_info": {
   "codemirror_mode": {
    "name": "ipython",
    "version": 3
   },
   "file_extension": ".py",
   "mimetype": "text/x-python",
   "name": "python",
   "nbconvert_exporter": "python",
   "pygments_lexer": "ipython3",
   "version": "3.10.0"
  },
  "toc-showmarkdowntxt": false,
  "vscode": {
   "interpreter": {
    "hash": "369f2c481f4da34e4445cda3fffd2e751bd1c4d706f27375911949ba6bb62e1c"
   }
  }
 },
 "nbformat": 4,
 "nbformat_minor": 5
}
